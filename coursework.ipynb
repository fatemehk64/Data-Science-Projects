{
 "cells": [
  {
   "cell_type": "markdown",
   "id": "e2e3a030-23ff-4fda-b228-47f241d9c7f6",
   "metadata": {},
   "source": [
    "<img src=\"https://d3bpgcke55gfwt.cloudfront.net/assets/uoplogo-7781d371f371f01ba417d9440f2092a9e96cbd33cb939f6cec72e77cbb01b8f0.svg\" width=60% />"
   ]
  },
  {
   "cell_type": "markdown",
   "id": "bec764ae-7e9c-48d1-817d-a72d48bae75a",
   "metadata": {},
   "source": [
    "<div class=\"alert alert-block alert-success\">\n",
    "    <h1 align=\"center\">The COMP5000 CourseWork</h1>\n",
    "    <h4 align=\"center\">by Fatemeh Karimi</h4>\n",
    "    </div>"
   ]
  },
  {
   "cell_type": "markdown",
   "id": "ef91fc26-66ba-4a2a-a9a1-070342691399",
   "metadata": {},
   "source": [
    "<div class=\"alert alert-block alert-info\" dir=\"ltr\" style=\"text-align: center;\"><strong><span style=\"font-family: courier new, courier; font-size: 18pt;\">pd.read_csv()</span></strong>\n",
    "<p dir=\"rtl\" style=\"text-align: center;\"><strong><span style=\"font-family: courier new, courier;\"><span style=\"font-size: 18pt;\">Loading the csv files and review of data</span><br /></span></strong></p>\n",
    "</div>"
   ]
  },
  {
   "cell_type": "markdown",
   "id": "f0f813ec-0d8c-41a7-94ce-086f1bf23b3c",
   "metadata": {},
   "source": [
    "By using pandas we can easily read data and check the data of each of the files in the dataset in this dataset we have five CSV include \n",
    "*  train_customers\n",
    "*  train_locations\n",
    "*  vendors\n",
    "*  orders\n",
    "*  train_full\n",
    "  \n",
    "  as in the description of coursework is mentioned some columns that is in *vendors* and in *full* should be droped.\n",
    "  furthermore, after checking the head of each file we found that file train_full is combining of all other files so we did not do anything with this file and did not put in Database."
   ]
  },
  {
   "cell_type": "code",
   "execution_count": 9,
   "id": "b8e22d8b-d908-4e3f-9e02-65003db4a196",
   "metadata": {},
   "outputs": [],
   "source": [
    "import pandas as pd"
   ]
  },
  {
   "cell_type": "markdown",
   "id": "0732f387-5351-4a03-9a3a-a17141d89c23",
   "metadata": {},
   "source": [
    "The Pandas library is used to read files and store them in a new DataFrame. In this step, customers_df is defined, and all data from the train_customers file is loaded into this DataFrame. Using head(), we can view the first few rows of the DataFrame."
   ]
  },
  {
   "cell_type": "code",
   "execution_count": 12,
   "id": "8be28965-d40f-4ef9-98c5-b99ca453cef4",
   "metadata": {},
   "outputs": [
    {
     "data": {
      "text/html": [
       "<div>\n",
       "<style scoped>\n",
       "    .dataframe tbody tr th:only-of-type {\n",
       "        vertical-align: middle;\n",
       "    }\n",
       "\n",
       "    .dataframe tbody tr th {\n",
       "        vertical-align: top;\n",
       "    }\n",
       "\n",
       "    .dataframe thead th {\n",
       "        text-align: right;\n",
       "    }\n",
       "</style>\n",
       "<table border=\"1\" class=\"dataframe\">\n",
       "  <thead>\n",
       "    <tr style=\"text-align: right;\">\n",
       "      <th></th>\n",
       "      <th>akeed_customer_id</th>\n",
       "      <th>gender</th>\n",
       "      <th>dob</th>\n",
       "      <th>status</th>\n",
       "      <th>verified</th>\n",
       "      <th>language</th>\n",
       "      <th>created_at</th>\n",
       "      <th>updated_at</th>\n",
       "    </tr>\n",
       "  </thead>\n",
       "  <tbody>\n",
       "    <tr>\n",
       "      <th>0</th>\n",
       "      <td>TCHWPBT</td>\n",
       "      <td>Male</td>\n",
       "      <td>NaN</td>\n",
       "      <td>1</td>\n",
       "      <td>1</td>\n",
       "      <td>EN</td>\n",
       "      <td>2018-02-07 19:16:23</td>\n",
       "      <td>2018-02-07 19:16:23</td>\n",
       "    </tr>\n",
       "    <tr>\n",
       "      <th>1</th>\n",
       "      <td>ZGFSYCZ</td>\n",
       "      <td>Male</td>\n",
       "      <td>NaN</td>\n",
       "      <td>1</td>\n",
       "      <td>1</td>\n",
       "      <td>EN</td>\n",
       "      <td>2018-02-09 12:04:42</td>\n",
       "      <td>2018-02-09 12:04:41</td>\n",
       "    </tr>\n",
       "    <tr>\n",
       "      <th>2</th>\n",
       "      <td>S2ALZFL</td>\n",
       "      <td>Male</td>\n",
       "      <td>NaN</td>\n",
       "      <td>0</td>\n",
       "      <td>1</td>\n",
       "      <td>EN</td>\n",
       "      <td>2018-03-14 18:31:43</td>\n",
       "      <td>2018-03-14 18:31:42</td>\n",
       "    </tr>\n",
       "    <tr>\n",
       "      <th>3</th>\n",
       "      <td>952DBJQ</td>\n",
       "      <td>Male</td>\n",
       "      <td>NaN</td>\n",
       "      <td>1</td>\n",
       "      <td>1</td>\n",
       "      <td>EN</td>\n",
       "      <td>2018-03-15 19:47:07</td>\n",
       "      <td>2018-03-15 19:47:07</td>\n",
       "    </tr>\n",
       "    <tr>\n",
       "      <th>4</th>\n",
       "      <td>1IX6FXS</td>\n",
       "      <td>Male</td>\n",
       "      <td>NaN</td>\n",
       "      <td>1</td>\n",
       "      <td>1</td>\n",
       "      <td>EN</td>\n",
       "      <td>2018-03-15 19:57:01</td>\n",
       "      <td>2018-03-15 19:57:01</td>\n",
       "    </tr>\n",
       "  </tbody>\n",
       "</table>\n",
       "</div>"
      ],
      "text/plain": [
       "  akeed_customer_id gender  dob  status  verified language  \\\n",
       "0           TCHWPBT   Male  NaN       1         1       EN   \n",
       "1           ZGFSYCZ   Male  NaN       1         1       EN   \n",
       "2           S2ALZFL   Male  NaN       0         1       EN   \n",
       "3           952DBJQ   Male  NaN       1         1       EN   \n",
       "4           1IX6FXS   Male  NaN       1         1       EN   \n",
       "\n",
       "            created_at           updated_at  \n",
       "0  2018-02-07 19:16:23  2018-02-07 19:16:23  \n",
       "1  2018-02-09 12:04:42  2018-02-09 12:04:41  \n",
       "2  2018-03-14 18:31:43  2018-03-14 18:31:42  \n",
       "3  2018-03-15 19:47:07  2018-03-15 19:47:07  \n",
       "4  2018-03-15 19:57:01  2018-03-15 19:57:01  "
      ]
     },
     "execution_count": 12,
     "metadata": {},
     "output_type": "execute_result"
    }
   ],
   "source": [
    "customers_df = pd.read_csv(\"train_customers.csv\")\n",
    "customers_df.head()\n"
   ]
  },
  {
   "cell_type": "code",
   "execution_count": 14,
   "id": "98df7e96-7ec1-404d-a521-474a34f28baa",
   "metadata": {},
   "outputs": [
    {
     "data": {
      "text/plain": [
       "Index(['akeed_customer_id', 'gender', 'dob', 'status', 'verified', 'language',\n",
       "       'created_at', 'updated_at'],\n",
       "      dtype='object')"
      ]
     },
     "execution_count": 14,
     "metadata": {},
     "output_type": "execute_result"
    }
   ],
   "source": [
    "customers_df.columns"
   ]
  },
  {
   "cell_type": "markdown",
   "id": "2565ddea-5d03-44a9-91b5-25cb8b518df5",
   "metadata": {},
   "source": [
    "Using .columns, we can see the column titles of the customers DataFrame. There are eight columns, and all have a data type of 'object'.\n",
    "Next, we start reviewing the data from the 'location' file. Again using Pandas, we read the data and store it in a new DataFrame. Then, we display the first few rows of the data."
   ]
  },
  {
   "cell_type": "code",
   "execution_count": 17,
   "id": "b41dbec9-f658-4f6a-946a-86aa60470b96",
   "metadata": {},
   "outputs": [
    {
     "data": {
      "text/html": [
       "<div>\n",
       "<style scoped>\n",
       "    .dataframe tbody tr th:only-of-type {\n",
       "        vertical-align: middle;\n",
       "    }\n",
       "\n",
       "    .dataframe tbody tr th {\n",
       "        vertical-align: top;\n",
       "    }\n",
       "\n",
       "    .dataframe thead th {\n",
       "        text-align: right;\n",
       "    }\n",
       "</style>\n",
       "<table border=\"1\" class=\"dataframe\">\n",
       "  <thead>\n",
       "    <tr style=\"text-align: right;\">\n",
       "      <th></th>\n",
       "      <th>customer_id</th>\n",
       "      <th>location_number</th>\n",
       "      <th>location_type</th>\n",
       "      <th>latitude</th>\n",
       "      <th>longitude</th>\n",
       "    </tr>\n",
       "  </thead>\n",
       "  <tbody>\n",
       "    <tr>\n",
       "      <th>0</th>\n",
       "      <td>02SFNJH</td>\n",
       "      <td>0</td>\n",
       "      <td>NaN</td>\n",
       "      <td>1.682392</td>\n",
       "      <td>-78.789737</td>\n",
       "    </tr>\n",
       "    <tr>\n",
       "      <th>1</th>\n",
       "      <td>02SFNJH</td>\n",
       "      <td>1</td>\n",
       "      <td>NaN</td>\n",
       "      <td>1.679137</td>\n",
       "      <td>0.766823</td>\n",
       "    </tr>\n",
       "    <tr>\n",
       "      <th>2</th>\n",
       "      <td>02SFNJH</td>\n",
       "      <td>2</td>\n",
       "      <td>NaN</td>\n",
       "      <td>-0.498648</td>\n",
       "      <td>0.661241</td>\n",
       "    </tr>\n",
       "    <tr>\n",
       "      <th>3</th>\n",
       "      <td>RU43CXC</td>\n",
       "      <td>0</td>\n",
       "      <td>Home</td>\n",
       "      <td>0.100853</td>\n",
       "      <td>0.438165</td>\n",
       "    </tr>\n",
       "    <tr>\n",
       "      <th>4</th>\n",
       "      <td>BDFBPRD</td>\n",
       "      <td>0</td>\n",
       "      <td>NaN</td>\n",
       "      <td>2.523125</td>\n",
       "      <td>0.733464</td>\n",
       "    </tr>\n",
       "  </tbody>\n",
       "</table>\n",
       "</div>"
      ],
      "text/plain": [
       "  customer_id  location_number location_type  latitude  longitude\n",
       "0     02SFNJH                0           NaN  1.682392 -78.789737\n",
       "1     02SFNJH                1           NaN  1.679137   0.766823\n",
       "2     02SFNJH                2           NaN -0.498648   0.661241\n",
       "3     RU43CXC                0          Home  0.100853   0.438165\n",
       "4     BDFBPRD                0           NaN  2.523125   0.733464"
      ]
     },
     "execution_count": 17,
     "metadata": {},
     "output_type": "execute_result"
    }
   ],
   "source": [
    "location_df = pd.read_csv(\"train_locations.csv\")\n",
    "location_df.head()"
   ]
  },
  {
   "cell_type": "code",
   "execution_count": 19,
   "id": "76ed0a3a-f150-4b05-a8fc-2cb7d7cfe5b1",
   "metadata": {},
   "outputs": [
    {
     "data": {
      "text/plain": [
       "Index(['customer_id', 'location_number', 'location_type', 'latitude',\n",
       "       'longitude'],\n",
       "      dtype='object')"
      ]
     },
     "execution_count": 19,
     "metadata": {},
     "output_type": "execute_result"
    }
   ],
   "source": [
    "location_df.columns"
   ]
  },
  {
   "cell_type": "markdown",
   "id": "a7b577e2-6617-4fc9-9492-860c30144b92",
   "metadata": {},
   "source": [
    "This DataFrame includes five columns, all of which have an 'object' data type. As expected, one customer ID can be associated with multiple location numbers. Therefore, location number cannot be the primary key of the location table. It appears that customer ID and location number together may be suitable as the primary key for the location table."
   ]
  },
  {
   "cell_type": "code",
   "execution_count": 22,
   "id": "de745c49-a1fd-40e2-b37c-28cbf0957253",
   "metadata": {},
   "outputs": [
    {
     "data": {
      "text/html": [
       "<div>\n",
       "<style scoped>\n",
       "    .dataframe tbody tr th:only-of-type {\n",
       "        vertical-align: middle;\n",
       "    }\n",
       "\n",
       "    .dataframe tbody tr th {\n",
       "        vertical-align: top;\n",
       "    }\n",
       "\n",
       "    .dataframe thead th {\n",
       "        text-align: right;\n",
       "    }\n",
       "</style>\n",
       "<table border=\"1\" class=\"dataframe\">\n",
       "  <thead>\n",
       "    <tr style=\"text-align: right;\">\n",
       "      <th></th>\n",
       "      <th>id</th>\n",
       "      <th>authentication_id</th>\n",
       "      <th>latitude</th>\n",
       "      <th>longitude</th>\n",
       "      <th>vendor_category_en</th>\n",
       "      <th>vendor_category_id</th>\n",
       "      <th>delivery_charge</th>\n",
       "      <th>serving_distance</th>\n",
       "      <th>is_open</th>\n",
       "      <th>OpeningTime</th>\n",
       "      <th>...</th>\n",
       "      <th>open_close_flags</th>\n",
       "      <th>vendor_tag</th>\n",
       "      <th>vendor_tag_name</th>\n",
       "      <th>one_click_vendor</th>\n",
       "      <th>country_id</th>\n",
       "      <th>city_id</th>\n",
       "      <th>created_at</th>\n",
       "      <th>updated_at</th>\n",
       "      <th>device_type</th>\n",
       "      <th>display_orders</th>\n",
       "    </tr>\n",
       "  </thead>\n",
       "  <tbody>\n",
       "    <tr>\n",
       "      <th>0</th>\n",
       "      <td>4</td>\n",
       "      <td>118597.0</td>\n",
       "      <td>-0.588596</td>\n",
       "      <td>0.754434</td>\n",
       "      <td>Restaurants</td>\n",
       "      <td>2.0</td>\n",
       "      <td>0.0</td>\n",
       "      <td>6.0</td>\n",
       "      <td>1.0</td>\n",
       "      <td>11:00AM-11:30PM</td>\n",
       "      <td>...</td>\n",
       "      <td>1.0</td>\n",
       "      <td>2,4,5,8,91,22,12,24,16,23</td>\n",
       "      <td>Arabic,Breakfast,Burgers,Desserts,Free Deliver...</td>\n",
       "      <td>Y</td>\n",
       "      <td>1.0</td>\n",
       "      <td>1.0</td>\n",
       "      <td>2018-01-30 14:42:04</td>\n",
       "      <td>2020-04-07 15:12:43</td>\n",
       "      <td>3</td>\n",
       "      <td>1</td>\n",
       "    </tr>\n",
       "    <tr>\n",
       "      <th>1</th>\n",
       "      <td>13</td>\n",
       "      <td>118608.0</td>\n",
       "      <td>-0.471654</td>\n",
       "      <td>0.744470</td>\n",
       "      <td>Restaurants</td>\n",
       "      <td>2.0</td>\n",
       "      <td>0.7</td>\n",
       "      <td>5.0</td>\n",
       "      <td>1.0</td>\n",
       "      <td>08:30AM-10:30PM</td>\n",
       "      <td>...</td>\n",
       "      <td>1.0</td>\n",
       "      <td>4,41,51,34,27,15,24,16,28</td>\n",
       "      <td>Breakfast,Cakes,Crepes,Italian,Pasta,Pizzas,Sa...</td>\n",
       "      <td>Y</td>\n",
       "      <td>1.0</td>\n",
       "      <td>1.0</td>\n",
       "      <td>2018-05-03 12:32:06</td>\n",
       "      <td>2020-04-05 20:46:03</td>\n",
       "      <td>3</td>\n",
       "      <td>1</td>\n",
       "    </tr>\n",
       "    <tr>\n",
       "      <th>2</th>\n",
       "      <td>20</td>\n",
       "      <td>118616.0</td>\n",
       "      <td>-0.407527</td>\n",
       "      <td>0.643681</td>\n",
       "      <td>Restaurants</td>\n",
       "      <td>2.0</td>\n",
       "      <td>0.0</td>\n",
       "      <td>8.0</td>\n",
       "      <td>1.0</td>\n",
       "      <td>08:00AM-10:45PM</td>\n",
       "      <td>...</td>\n",
       "      <td>1.0</td>\n",
       "      <td>4,8,91,10</td>\n",
       "      <td>Breakfast,Desserts,Free Delivery,Indian</td>\n",
       "      <td>Y</td>\n",
       "      <td>1.0</td>\n",
       "      <td>1.0</td>\n",
       "      <td>2018-05-04 22:28:22</td>\n",
       "      <td>2020-04-07 16:35:55</td>\n",
       "      <td>3</td>\n",
       "      <td>1</td>\n",
       "    </tr>\n",
       "    <tr>\n",
       "      <th>3</th>\n",
       "      <td>23</td>\n",
       "      <td>118619.0</td>\n",
       "      <td>-0.585385</td>\n",
       "      <td>0.753811</td>\n",
       "      <td>Restaurants</td>\n",
       "      <td>2.0</td>\n",
       "      <td>0.0</td>\n",
       "      <td>5.0</td>\n",
       "      <td>1.0</td>\n",
       "      <td>10:59AM-10:30PM</td>\n",
       "      <td>...</td>\n",
       "      <td>1.0</td>\n",
       "      <td>5,8,30,24</td>\n",
       "      <td>Burgers,Desserts,Fries,Salads</td>\n",
       "      <td>Y</td>\n",
       "      <td>1.0</td>\n",
       "      <td>1.0</td>\n",
       "      <td>2018-05-06 19:20:48</td>\n",
       "      <td>2020-04-02 00:56:17</td>\n",
       "      <td>3</td>\n",
       "      <td>1</td>\n",
       "    </tr>\n",
       "    <tr>\n",
       "      <th>4</th>\n",
       "      <td>28</td>\n",
       "      <td>118624.0</td>\n",
       "      <td>0.480602</td>\n",
       "      <td>0.552850</td>\n",
       "      <td>Restaurants</td>\n",
       "      <td>2.0</td>\n",
       "      <td>0.7</td>\n",
       "      <td>15.0</td>\n",
       "      <td>1.0</td>\n",
       "      <td>11:00AM-11:45PM</td>\n",
       "      <td>...</td>\n",
       "      <td>1.0</td>\n",
       "      <td>5</td>\n",
       "      <td>Burgers</td>\n",
       "      <td>Y</td>\n",
       "      <td>1.0</td>\n",
       "      <td>1.0</td>\n",
       "      <td>2018-05-17 22:12:38</td>\n",
       "      <td>2020-04-05 15:57:41</td>\n",
       "      <td>3</td>\n",
       "      <td>1</td>\n",
       "    </tr>\n",
       "  </tbody>\n",
       "</table>\n",
       "<p>5 rows × 59 columns</p>\n",
       "</div>"
      ],
      "text/plain": [
       "   id  authentication_id  latitude  longitude vendor_category_en  \\\n",
       "0   4           118597.0 -0.588596   0.754434        Restaurants   \n",
       "1  13           118608.0 -0.471654   0.744470        Restaurants   \n",
       "2  20           118616.0 -0.407527   0.643681        Restaurants   \n",
       "3  23           118619.0 -0.585385   0.753811        Restaurants   \n",
       "4  28           118624.0  0.480602   0.552850        Restaurants   \n",
       "\n",
       "   vendor_category_id  delivery_charge  serving_distance  is_open  \\\n",
       "0                 2.0              0.0               6.0      1.0   \n",
       "1                 2.0              0.7               5.0      1.0   \n",
       "2                 2.0              0.0               8.0      1.0   \n",
       "3                 2.0              0.0               5.0      1.0   \n",
       "4                 2.0              0.7              15.0      1.0   \n",
       "\n",
       "       OpeningTime  ... open_close_flags                 vendor_tag  \\\n",
       "0  11:00AM-11:30PM  ...              1.0  2,4,5,8,91,22,12,24,16,23   \n",
       "1  08:30AM-10:30PM  ...              1.0  4,41,51,34,27,15,24,16,28   \n",
       "2  08:00AM-10:45PM  ...              1.0                  4,8,91,10   \n",
       "3  10:59AM-10:30PM  ...              1.0                  5,8,30,24   \n",
       "4  11:00AM-11:45PM  ...              1.0                          5   \n",
       "\n",
       "                                     vendor_tag_name one_click_vendor  \\\n",
       "0  Arabic,Breakfast,Burgers,Desserts,Free Deliver...                Y   \n",
       "1  Breakfast,Cakes,Crepes,Italian,Pasta,Pizzas,Sa...                Y   \n",
       "2            Breakfast,Desserts,Free Delivery,Indian                Y   \n",
       "3                      Burgers,Desserts,Fries,Salads                Y   \n",
       "4                                            Burgers                Y   \n",
       "\n",
       "   country_id  city_id           created_at           updated_at device_type  \\\n",
       "0         1.0      1.0  2018-01-30 14:42:04  2020-04-07 15:12:43           3   \n",
       "1         1.0      1.0  2018-05-03 12:32:06  2020-04-05 20:46:03           3   \n",
       "2         1.0      1.0  2018-05-04 22:28:22  2020-04-07 16:35:55           3   \n",
       "3         1.0      1.0  2018-05-06 19:20:48  2020-04-02 00:56:17           3   \n",
       "4         1.0      1.0  2018-05-17 22:12:38  2020-04-05 15:57:41           3   \n",
       "\n",
       "   display_orders  \n",
       "0               1  \n",
       "1               1  \n",
       "2               1  \n",
       "3               1  \n",
       "4               1  \n",
       "\n",
       "[5 rows x 59 columns]"
      ]
     },
     "execution_count": 22,
     "metadata": {},
     "output_type": "execute_result"
    }
   ],
   "source": [
    "vendor_df = pd.read_csv(\"vendors.csv\")\n",
    "vendor_df.columns\n",
    "vendor_df.head()"
   ]
  },
  {
   "cell_type": "markdown",
   "id": "a7ca70d9-2854-4baa-856c-c75c27dd2d5d",
   "metadata": {},
   "source": [
    "when we read the vendor file we can see that this table includes some columns that we do not use them and we should drop them so we use **.drop** for removing this columns from vendor table:"
   ]
  },
  {
   "cell_type": "code",
   "execution_count": 25,
   "id": "bc4a372a-a5d5-49fa-a5f0-13cbd2259035",
   "metadata": {},
   "outputs": [
    {
     "data": {
      "text/html": [
       "<div>\n",
       "<style scoped>\n",
       "    .dataframe tbody tr th:only-of-type {\n",
       "        vertical-align: middle;\n",
       "    }\n",
       "\n",
       "    .dataframe tbody tr th {\n",
       "        vertical-align: top;\n",
       "    }\n",
       "\n",
       "    .dataframe thead th {\n",
       "        text-align: right;\n",
       "    }\n",
       "</style>\n",
       "<table border=\"1\" class=\"dataframe\">\n",
       "  <thead>\n",
       "    <tr style=\"text-align: right;\">\n",
       "      <th></th>\n",
       "      <th>id</th>\n",
       "      <th>authentication_id</th>\n",
       "      <th>latitude</th>\n",
       "      <th>longitude</th>\n",
       "      <th>vendor_category_en</th>\n",
       "      <th>vendor_category_id</th>\n",
       "      <th>delivery_charge</th>\n",
       "      <th>serving_distance</th>\n",
       "      <th>is_open</th>\n",
       "      <th>OpeningTime</th>\n",
       "      <th>...</th>\n",
       "      <th>open_close_flags</th>\n",
       "      <th>vendor_tag</th>\n",
       "      <th>vendor_tag_name</th>\n",
       "      <th>one_click_vendor</th>\n",
       "      <th>country_id</th>\n",
       "      <th>city_id</th>\n",
       "      <th>created_at</th>\n",
       "      <th>updated_at</th>\n",
       "      <th>device_type</th>\n",
       "      <th>display_orders</th>\n",
       "    </tr>\n",
       "  </thead>\n",
       "  <tbody>\n",
       "    <tr>\n",
       "      <th>0</th>\n",
       "      <td>4</td>\n",
       "      <td>118597.0</td>\n",
       "      <td>-0.588596</td>\n",
       "      <td>0.754434</td>\n",
       "      <td>Restaurants</td>\n",
       "      <td>2.0</td>\n",
       "      <td>0.0</td>\n",
       "      <td>6.0</td>\n",
       "      <td>1.0</td>\n",
       "      <td>11:00AM-11:30PM</td>\n",
       "      <td>...</td>\n",
       "      <td>1.0</td>\n",
       "      <td>2,4,5,8,91,22,12,24,16,23</td>\n",
       "      <td>Arabic,Breakfast,Burgers,Desserts,Free Deliver...</td>\n",
       "      <td>Y</td>\n",
       "      <td>1.0</td>\n",
       "      <td>1.0</td>\n",
       "      <td>2018-01-30 14:42:04</td>\n",
       "      <td>2020-04-07 15:12:43</td>\n",
       "      <td>3</td>\n",
       "      <td>1</td>\n",
       "    </tr>\n",
       "    <tr>\n",
       "      <th>1</th>\n",
       "      <td>13</td>\n",
       "      <td>118608.0</td>\n",
       "      <td>-0.471654</td>\n",
       "      <td>0.744470</td>\n",
       "      <td>Restaurants</td>\n",
       "      <td>2.0</td>\n",
       "      <td>0.7</td>\n",
       "      <td>5.0</td>\n",
       "      <td>1.0</td>\n",
       "      <td>08:30AM-10:30PM</td>\n",
       "      <td>...</td>\n",
       "      <td>1.0</td>\n",
       "      <td>4,41,51,34,27,15,24,16,28</td>\n",
       "      <td>Breakfast,Cakes,Crepes,Italian,Pasta,Pizzas,Sa...</td>\n",
       "      <td>Y</td>\n",
       "      <td>1.0</td>\n",
       "      <td>1.0</td>\n",
       "      <td>2018-05-03 12:32:06</td>\n",
       "      <td>2020-04-05 20:46:03</td>\n",
       "      <td>3</td>\n",
       "      <td>1</td>\n",
       "    </tr>\n",
       "    <tr>\n",
       "      <th>2</th>\n",
       "      <td>20</td>\n",
       "      <td>118616.0</td>\n",
       "      <td>-0.407527</td>\n",
       "      <td>0.643681</td>\n",
       "      <td>Restaurants</td>\n",
       "      <td>2.0</td>\n",
       "      <td>0.0</td>\n",
       "      <td>8.0</td>\n",
       "      <td>1.0</td>\n",
       "      <td>08:00AM-10:45PM</td>\n",
       "      <td>...</td>\n",
       "      <td>1.0</td>\n",
       "      <td>4,8,91,10</td>\n",
       "      <td>Breakfast,Desserts,Free Delivery,Indian</td>\n",
       "      <td>Y</td>\n",
       "      <td>1.0</td>\n",
       "      <td>1.0</td>\n",
       "      <td>2018-05-04 22:28:22</td>\n",
       "      <td>2020-04-07 16:35:55</td>\n",
       "      <td>3</td>\n",
       "      <td>1</td>\n",
       "    </tr>\n",
       "    <tr>\n",
       "      <th>3</th>\n",
       "      <td>23</td>\n",
       "      <td>118619.0</td>\n",
       "      <td>-0.585385</td>\n",
       "      <td>0.753811</td>\n",
       "      <td>Restaurants</td>\n",
       "      <td>2.0</td>\n",
       "      <td>0.0</td>\n",
       "      <td>5.0</td>\n",
       "      <td>1.0</td>\n",
       "      <td>10:59AM-10:30PM</td>\n",
       "      <td>...</td>\n",
       "      <td>1.0</td>\n",
       "      <td>5,8,30,24</td>\n",
       "      <td>Burgers,Desserts,Fries,Salads</td>\n",
       "      <td>Y</td>\n",
       "      <td>1.0</td>\n",
       "      <td>1.0</td>\n",
       "      <td>2018-05-06 19:20:48</td>\n",
       "      <td>2020-04-02 00:56:17</td>\n",
       "      <td>3</td>\n",
       "      <td>1</td>\n",
       "    </tr>\n",
       "    <tr>\n",
       "      <th>4</th>\n",
       "      <td>28</td>\n",
       "      <td>118624.0</td>\n",
       "      <td>0.480602</td>\n",
       "      <td>0.552850</td>\n",
       "      <td>Restaurants</td>\n",
       "      <td>2.0</td>\n",
       "      <td>0.7</td>\n",
       "      <td>15.0</td>\n",
       "      <td>1.0</td>\n",
       "      <td>11:00AM-11:45PM</td>\n",
       "      <td>...</td>\n",
       "      <td>1.0</td>\n",
       "      <td>5</td>\n",
       "      <td>Burgers</td>\n",
       "      <td>Y</td>\n",
       "      <td>1.0</td>\n",
       "      <td>1.0</td>\n",
       "      <td>2018-05-17 22:12:38</td>\n",
       "      <td>2020-04-05 15:57:41</td>\n",
       "      <td>3</td>\n",
       "      <td>1</td>\n",
       "    </tr>\n",
       "  </tbody>\n",
       "</table>\n",
       "<p>5 rows × 31 columns</p>\n",
       "</div>"
      ],
      "text/plain": [
       "   id  authentication_id  latitude  longitude vendor_category_en  \\\n",
       "0   4           118597.0 -0.588596   0.754434        Restaurants   \n",
       "1  13           118608.0 -0.471654   0.744470        Restaurants   \n",
       "2  20           118616.0 -0.407527   0.643681        Restaurants   \n",
       "3  23           118619.0 -0.585385   0.753811        Restaurants   \n",
       "4  28           118624.0  0.480602   0.552850        Restaurants   \n",
       "\n",
       "   vendor_category_id  delivery_charge  serving_distance  is_open  \\\n",
       "0                 2.0              0.0               6.0      1.0   \n",
       "1                 2.0              0.7               5.0      1.0   \n",
       "2                 2.0              0.0               8.0      1.0   \n",
       "3                 2.0              0.0               5.0      1.0   \n",
       "4                 2.0              0.7              15.0      1.0   \n",
       "\n",
       "       OpeningTime  ... open_close_flags                 vendor_tag  \\\n",
       "0  11:00AM-11:30PM  ...              1.0  2,4,5,8,91,22,12,24,16,23   \n",
       "1  08:30AM-10:30PM  ...              1.0  4,41,51,34,27,15,24,16,28   \n",
       "2  08:00AM-10:45PM  ...              1.0                  4,8,91,10   \n",
       "3  10:59AM-10:30PM  ...              1.0                  5,8,30,24   \n",
       "4  11:00AM-11:45PM  ...              1.0                          5   \n",
       "\n",
       "                                     vendor_tag_name one_click_vendor  \\\n",
       "0  Arabic,Breakfast,Burgers,Desserts,Free Deliver...                Y   \n",
       "1  Breakfast,Cakes,Crepes,Italian,Pasta,Pizzas,Sa...                Y   \n",
       "2            Breakfast,Desserts,Free Delivery,Indian                Y   \n",
       "3                      Burgers,Desserts,Fries,Salads                Y   \n",
       "4                                            Burgers                Y   \n",
       "\n",
       "   country_id  city_id           created_at           updated_at device_type  \\\n",
       "0         1.0      1.0  2018-01-30 14:42:04  2020-04-07 15:12:43           3   \n",
       "1         1.0      1.0  2018-05-03 12:32:06  2020-04-05 20:46:03           3   \n",
       "2         1.0      1.0  2018-05-04 22:28:22  2020-04-07 16:35:55           3   \n",
       "3         1.0      1.0  2018-05-06 19:20:48  2020-04-02 00:56:17           3   \n",
       "4         1.0      1.0  2018-05-17 22:12:38  2020-04-05 15:57:41           3   \n",
       "\n",
       "   display_orders  \n",
       "0               1  \n",
       "1               1  \n",
       "2               1  \n",
       "3               1  \n",
       "4               1  \n",
       "\n",
       "[5 rows x 31 columns]"
      ]
     },
     "execution_count": 25,
     "metadata": {},
     "output_type": "execute_result"
    }
   ],
   "source": [
    "vendor_df = vendor_df.drop(['sunday_from_time1', 'sunday_to_time1','sunday_from_time2', 'sunday_to_time2', 'monday_from_time1',\n",
    "'monday_to_time1', 'monday_from_time2', 'monday_to_time2',\n",
    "'tuesday_from_time1', 'tuesday_to_time1', 'tuesday_from_time2',\n",
    "'tuesday_to_time2', 'wednesday_from_time1', 'wednesday_to_time1', 'wednesday_from_time2',\n",
    "'wednesday_to_time2', 'thursday_from_time1', 'thursday_to_time1', 'thursday_from_time2',\n",
    "'thursday_to_time2', 'friday_from_time1', 'friday_to_time1', 'friday_from_time2',\n",
    "'friday_to_time2', 'saturday_from_time1', 'saturday_to_time1', 'saturday_from_time2',\n",
    "'saturday_to_time2'], axis=1)\n",
    "\n",
    "vendor_df.head()"
   ]
  },
  {
   "cell_type": "code",
   "execution_count": 27,
   "id": "f6850cb8-c0f6-49b3-bee5-f795de4194d2",
   "metadata": {},
   "outputs": [
    {
     "data": {
      "text/plain": [
       "Index(['id', 'authentication_id', 'latitude', 'longitude',\n",
       "       'vendor_category_en', 'vendor_category_id', 'delivery_charge',\n",
       "       'serving_distance', 'is_open', 'OpeningTime', 'OpeningTime2',\n",
       "       'prepration_time', 'commission', 'is_akeed_delivering',\n",
       "       'discount_percentage', 'status', 'verified', 'rank', 'language',\n",
       "       'vendor_rating', 'primary_tags', 'open_close_flags', 'vendor_tag',\n",
       "       'vendor_tag_name', 'one_click_vendor', 'country_id', 'city_id',\n",
       "       'created_at', 'updated_at', 'device_type', 'display_orders'],\n",
       "      dtype='object')"
      ]
     },
     "execution_count": 27,
     "metadata": {},
     "output_type": "execute_result"
    }
   ],
   "source": [
    "vendor_df.columns"
   ]
  },
  {
   "cell_type": "markdown",
   "id": "c8424725-baea-49e1-b3f9-e0e630279aa3",
   "metadata": {},
   "source": [
    "vendor table includes 31 columns that have unique id that can be use as primary key in designing database .\n",
    "another table that we should put it in the database is orders.with below code we check the data of this table:"
   ]
  },
  {
   "cell_type": "code",
   "execution_count": 30,
   "id": "dc004c51-e9ed-407d-a57a-0f01d8cabcb5",
   "metadata": {},
   "outputs": [
    {
     "name": "stderr",
     "output_type": "stream",
     "text": [
      "C:\\Users\\karimi\\AppData\\Local\\Temp\\ipykernel_12108\\3929637452.py:1: DtypeWarning: Columns (15,16,18,19,20) have mixed types. Specify dtype option on import or set low_memory=False.\n",
      "  order_df = pd.read_csv(\"orders.csv\")\n"
     ]
    },
    {
     "data": {
      "text/html": [
       "<div>\n",
       "<style scoped>\n",
       "    .dataframe tbody tr th:only-of-type {\n",
       "        vertical-align: middle;\n",
       "    }\n",
       "\n",
       "    .dataframe tbody tr th {\n",
       "        vertical-align: top;\n",
       "    }\n",
       "\n",
       "    .dataframe thead th {\n",
       "        text-align: right;\n",
       "    }\n",
       "</style>\n",
       "<table border=\"1\" class=\"dataframe\">\n",
       "  <thead>\n",
       "    <tr style=\"text-align: right;\">\n",
       "      <th></th>\n",
       "      <th>akeed_order_id</th>\n",
       "      <th>customer_id</th>\n",
       "      <th>item_count</th>\n",
       "      <th>grand_total</th>\n",
       "      <th>payment_mode</th>\n",
       "      <th>promo_code</th>\n",
       "      <th>vendor_discount_amount</th>\n",
       "      <th>promo_code_discount_percentage</th>\n",
       "      <th>is_favorite</th>\n",
       "      <th>is_rated</th>\n",
       "      <th>...</th>\n",
       "      <th>driver_accepted_time</th>\n",
       "      <th>ready_for_pickup_time</th>\n",
       "      <th>picked_up_time</th>\n",
       "      <th>delivered_time</th>\n",
       "      <th>delivery_date</th>\n",
       "      <th>vendor_id</th>\n",
       "      <th>created_at</th>\n",
       "      <th>LOCATION_NUMBER</th>\n",
       "      <th>LOCATION_TYPE</th>\n",
       "      <th>CID X LOC_NUM X VENDOR</th>\n",
       "    </tr>\n",
       "  </thead>\n",
       "  <tbody>\n",
       "    <tr>\n",
       "      <th>0</th>\n",
       "      <td>163238.0</td>\n",
       "      <td>92PEE24</td>\n",
       "      <td>1.0</td>\n",
       "      <td>7.6</td>\n",
       "      <td>2</td>\n",
       "      <td>NaN</td>\n",
       "      <td>0.0</td>\n",
       "      <td>NaN</td>\n",
       "      <td>NaN</td>\n",
       "      <td>No</td>\n",
       "      <td>...</td>\n",
       "      <td>NaN</td>\n",
       "      <td>NaN</td>\n",
       "      <td>NaN</td>\n",
       "      <td>NaN</td>\n",
       "      <td>2019-07-31 05:30:00</td>\n",
       "      <td>105</td>\n",
       "      <td>2019-08-01 05:30:16</td>\n",
       "      <td>0</td>\n",
       "      <td>NaN</td>\n",
       "      <td>92PEE24 X 0 X 105</td>\n",
       "    </tr>\n",
       "    <tr>\n",
       "      <th>1</th>\n",
       "      <td>163240.0</td>\n",
       "      <td>QS68UD8</td>\n",
       "      <td>1.0</td>\n",
       "      <td>8.7</td>\n",
       "      <td>1</td>\n",
       "      <td>NaN</td>\n",
       "      <td>0.0</td>\n",
       "      <td>NaN</td>\n",
       "      <td>NaN</td>\n",
       "      <td>No</td>\n",
       "      <td>...</td>\n",
       "      <td>NaN</td>\n",
       "      <td>NaN</td>\n",
       "      <td>NaN</td>\n",
       "      <td>NaN</td>\n",
       "      <td>2019-07-31 05:30:00</td>\n",
       "      <td>294</td>\n",
       "      <td>2019-08-01 05:31:10</td>\n",
       "      <td>0</td>\n",
       "      <td>Work</td>\n",
       "      <td>QS68UD8 X 0 X 294</td>\n",
       "    </tr>\n",
       "    <tr>\n",
       "      <th>2</th>\n",
       "      <td>163241.0</td>\n",
       "      <td>MB7VY5F</td>\n",
       "      <td>2.0</td>\n",
       "      <td>14.4</td>\n",
       "      <td>1</td>\n",
       "      <td>NaN</td>\n",
       "      <td>0.0</td>\n",
       "      <td>NaN</td>\n",
       "      <td>NaN</td>\n",
       "      <td>No</td>\n",
       "      <td>...</td>\n",
       "      <td>NaN</td>\n",
       "      <td>NaN</td>\n",
       "      <td>NaN</td>\n",
       "      <td>NaN</td>\n",
       "      <td>2019-07-31 05:30:00</td>\n",
       "      <td>83</td>\n",
       "      <td>2019-08-01 05:31:33</td>\n",
       "      <td>0</td>\n",
       "      <td>NaN</td>\n",
       "      <td>MB7VY5F X 0 X 83</td>\n",
       "    </tr>\n",
       "    <tr>\n",
       "      <th>3</th>\n",
       "      <td>163244.0</td>\n",
       "      <td>KDJ951Y</td>\n",
       "      <td>1.0</td>\n",
       "      <td>7.1</td>\n",
       "      <td>1</td>\n",
       "      <td>NaN</td>\n",
       "      <td>0.0</td>\n",
       "      <td>NaN</td>\n",
       "      <td>NaN</td>\n",
       "      <td>No</td>\n",
       "      <td>...</td>\n",
       "      <td>NaN</td>\n",
       "      <td>NaN</td>\n",
       "      <td>NaN</td>\n",
       "      <td>NaN</td>\n",
       "      <td>2019-07-31 05:30:00</td>\n",
       "      <td>90</td>\n",
       "      <td>2019-08-01 05:34:54</td>\n",
       "      <td>0</td>\n",
       "      <td>Home</td>\n",
       "      <td>KDJ951Y X 0 X 90</td>\n",
       "    </tr>\n",
       "    <tr>\n",
       "      <th>4</th>\n",
       "      <td>163245.0</td>\n",
       "      <td>BAL0RVT</td>\n",
       "      <td>4.0</td>\n",
       "      <td>27.2</td>\n",
       "      <td>1</td>\n",
       "      <td>NaN</td>\n",
       "      <td>0.0</td>\n",
       "      <td>NaN</td>\n",
       "      <td>NaN</td>\n",
       "      <td>No</td>\n",
       "      <td>...</td>\n",
       "      <td>NaN</td>\n",
       "      <td>NaN</td>\n",
       "      <td>NaN</td>\n",
       "      <td>NaN</td>\n",
       "      <td>2019-07-31 05:30:00</td>\n",
       "      <td>83</td>\n",
       "      <td>2019-08-01 05:35:51</td>\n",
       "      <td>0</td>\n",
       "      <td>Work</td>\n",
       "      <td>BAL0RVT X 0 X 83</td>\n",
       "    </tr>\n",
       "  </tbody>\n",
       "</table>\n",
       "<p>5 rows × 26 columns</p>\n",
       "</div>"
      ],
      "text/plain": [
       "   akeed_order_id customer_id  item_count  grand_total  payment_mode  \\\n",
       "0        163238.0     92PEE24         1.0          7.6             2   \n",
       "1        163240.0     QS68UD8         1.0          8.7             1   \n",
       "2        163241.0     MB7VY5F         2.0         14.4             1   \n",
       "3        163244.0     KDJ951Y         1.0          7.1             1   \n",
       "4        163245.0     BAL0RVT         4.0         27.2             1   \n",
       "\n",
       "  promo_code  vendor_discount_amount  promo_code_discount_percentage  \\\n",
       "0        NaN                     0.0                             NaN   \n",
       "1        NaN                     0.0                             NaN   \n",
       "2        NaN                     0.0                             NaN   \n",
       "3        NaN                     0.0                             NaN   \n",
       "4        NaN                     0.0                             NaN   \n",
       "\n",
       "  is_favorite is_rated  ...  driver_accepted_time  ready_for_pickup_time  \\\n",
       "0         NaN       No  ...                   NaN                    NaN   \n",
       "1         NaN       No  ...                   NaN                    NaN   \n",
       "2         NaN       No  ...                   NaN                    NaN   \n",
       "3         NaN       No  ...                   NaN                    NaN   \n",
       "4         NaN       No  ...                   NaN                    NaN   \n",
       "\n",
       "   picked_up_time  delivered_time        delivery_date vendor_id  \\\n",
       "0             NaN             NaN  2019-07-31 05:30:00       105   \n",
       "1             NaN             NaN  2019-07-31 05:30:00       294   \n",
       "2             NaN             NaN  2019-07-31 05:30:00        83   \n",
       "3             NaN             NaN  2019-07-31 05:30:00        90   \n",
       "4             NaN             NaN  2019-07-31 05:30:00        83   \n",
       "\n",
       "            created_at LOCATION_NUMBER LOCATION_TYPE CID X LOC_NUM X VENDOR  \n",
       "0  2019-08-01 05:30:16               0           NaN      92PEE24 X 0 X 105  \n",
       "1  2019-08-01 05:31:10               0          Work      QS68UD8 X 0 X 294  \n",
       "2  2019-08-01 05:31:33               0           NaN       MB7VY5F X 0 X 83  \n",
       "3  2019-08-01 05:34:54               0          Home       KDJ951Y X 0 X 90  \n",
       "4  2019-08-01 05:35:51               0          Work       BAL0RVT X 0 X 83  \n",
       "\n",
       "[5 rows x 26 columns]"
      ]
     },
     "execution_count": 30,
     "metadata": {},
     "output_type": "execute_result"
    }
   ],
   "source": [
    "order_df = pd.read_csv(\"orders.csv\")\n",
    "\n",
    "order_df.head()"
   ]
  },
  {
   "cell_type": "code",
   "execution_count": 32,
   "id": "aa39ee24-5463-4b49-8a7c-3dc5b74c514d",
   "metadata": {},
   "outputs": [
    {
     "data": {
      "text/plain": [
       "Index(['akeed_order_id', 'customer_id', 'item_count', 'grand_total',\n",
       "       'payment_mode', 'promo_code', 'vendor_discount_amount',\n",
       "       'promo_code_discount_percentage', 'is_favorite', 'is_rated',\n",
       "       'vendor_rating', 'driver_rating', 'deliverydistance', 'preparationtime',\n",
       "       'delivery_time', 'order_accepted_time', 'driver_accepted_time',\n",
       "       'ready_for_pickup_time', 'picked_up_time', 'delivered_time',\n",
       "       'delivery_date', 'vendor_id', 'created_at', 'LOCATION_NUMBER',\n",
       "       'LOCATION_TYPE', 'CID X LOC_NUM X VENDOR'],\n",
       "      dtype='object')"
      ]
     },
     "execution_count": 32,
     "metadata": {},
     "output_type": "execute_result"
    }
   ],
   "source": [
    "order_df.columns"
   ]
  },
  {
   "cell_type": "markdown",
   "id": "21fd2896-ae34-457b-8701-d5d7fde96b81",
   "metadata": {},
   "source": [
    "in the table that name is orders have 26 columnsas we see in this table the name of some columns has problem can cause problem in designing database : 'LOCATION_NUMBER', 'LOCATION_TYPE'this two name should be replace with lowercase and 'CID X LOC_NUM X VENDOR' should change the name and remove the space between parts: "
   ]
  },
  {
   "cell_type": "code",
   "execution_count": 35,
   "id": "36ec64c8-b1d5-4861-904c-ea225dfffaaf",
   "metadata": {},
   "outputs": [
    {
     "data": {
      "text/plain": [
       "Index(['akeed_order_id', 'customer_id', 'item_count', 'grand_total',\n",
       "       'payment_mode', 'promo_code', 'vendor_discount_amount',\n",
       "       'promo_code_discount_percentage', 'is_favorite', 'is_rated',\n",
       "       'vendor_rating', 'driver_rating', 'deliverydistance', 'preparationtime',\n",
       "       'delivery_time', 'order_accepted_time', 'driver_accepted_time',\n",
       "       'ready_for_pickup_time', 'picked_up_time', 'delivered_time',\n",
       "       'delivery_date', 'vendor_id', 'created_at', 'location_number',\n",
       "       'location_type', 'CID_LOC_NUM_VENDOR'],\n",
       "      dtype='object')"
      ]
     },
     "execution_count": 35,
     "metadata": {},
     "output_type": "execute_result"
    }
   ],
   "source": [
    "order_df.rename(columns={\"CID X LOC_NUM X VENDOR\": \"CID_LOC_NUM_VENDOR\", \"LOCATION_NUMBER\":\"location_number\",\"LOCATION_TYPE\":\"location_type\" }, inplace=True)\n",
    "order_df.columns"
   ]
  },
  {
   "cell_type": "code",
   "execution_count": 39,
   "id": "ff1ae33f-5ce0-4af3-9aca-b41b62346b31",
   "metadata": {},
   "outputs": [
    {
     "name": "stderr",
     "output_type": "stream",
     "text": [
      "C:\\Users\\karimi\\AppData\\Local\\Temp\\ipykernel_12108\\2649694126.py:1: DtypeWarning: Columns (1) have mixed types. Specify dtype option on import or set low_memory=False.\n",
      "  full_df = pd.read_csv(\"train_full.csv\")\n"
     ]
    },
    {
     "data": {
      "text/html": [
       "<div>\n",
       "<style scoped>\n",
       "    .dataframe tbody tr th:only-of-type {\n",
       "        vertical-align: middle;\n",
       "    }\n",
       "\n",
       "    .dataframe tbody tr th {\n",
       "        vertical-align: top;\n",
       "    }\n",
       "\n",
       "    .dataframe thead th {\n",
       "        text-align: right;\n",
       "    }\n",
       "</style>\n",
       "<table border=\"1\" class=\"dataframe\">\n",
       "  <thead>\n",
       "    <tr style=\"text-align: right;\">\n",
       "      <th></th>\n",
       "      <th>customer_id</th>\n",
       "      <th>gender</th>\n",
       "      <th>status_x</th>\n",
       "      <th>verified_x</th>\n",
       "      <th>created_at_x</th>\n",
       "      <th>updated_at_x</th>\n",
       "      <th>location_number</th>\n",
       "      <th>location_type</th>\n",
       "      <th>latitude_x</th>\n",
       "      <th>longitude_x</th>\n",
       "      <th>...</th>\n",
       "      <th>country_id</th>\n",
       "      <th>city_id</th>\n",
       "      <th>created_at_y</th>\n",
       "      <th>updated_at_y</th>\n",
       "      <th>device_type</th>\n",
       "      <th>display_orders</th>\n",
       "      <th>location_number_obj</th>\n",
       "      <th>id_obj</th>\n",
       "      <th>CID X LOC_NUM X VENDOR</th>\n",
       "      <th>target</th>\n",
       "    </tr>\n",
       "  </thead>\n",
       "  <tbody>\n",
       "    <tr>\n",
       "      <th>0</th>\n",
       "      <td>TCHWPBT</td>\n",
       "      <td>Male</td>\n",
       "      <td>1</td>\n",
       "      <td>1</td>\n",
       "      <td>2018-02-07 19:16:23</td>\n",
       "      <td>2018-02-07 19:16:23</td>\n",
       "      <td>0</td>\n",
       "      <td>Work</td>\n",
       "      <td>-96.44</td>\n",
       "      <td>-67.2</td>\n",
       "      <td>...</td>\n",
       "      <td>1.0</td>\n",
       "      <td>1.0</td>\n",
       "      <td>2018-01-30 14:42:04</td>\n",
       "      <td>2020-04-07 15:12:43</td>\n",
       "      <td>3</td>\n",
       "      <td>1</td>\n",
       "      <td>0</td>\n",
       "      <td>4</td>\n",
       "      <td>TCHWPBT X 0 X 4</td>\n",
       "      <td>0</td>\n",
       "    </tr>\n",
       "    <tr>\n",
       "      <th>1</th>\n",
       "      <td>TCHWPBT</td>\n",
       "      <td>Male</td>\n",
       "      <td>1</td>\n",
       "      <td>1</td>\n",
       "      <td>2018-02-07 19:16:23</td>\n",
       "      <td>2018-02-07 19:16:23</td>\n",
       "      <td>0</td>\n",
       "      <td>Work</td>\n",
       "      <td>-96.44</td>\n",
       "      <td>-67.2</td>\n",
       "      <td>...</td>\n",
       "      <td>1.0</td>\n",
       "      <td>1.0</td>\n",
       "      <td>2018-05-03 12:32:06</td>\n",
       "      <td>2020-04-05 20:46:03</td>\n",
       "      <td>3</td>\n",
       "      <td>1</td>\n",
       "      <td>0</td>\n",
       "      <td>13</td>\n",
       "      <td>TCHWPBT X 0 X 13</td>\n",
       "      <td>0</td>\n",
       "    </tr>\n",
       "    <tr>\n",
       "      <th>2</th>\n",
       "      <td>TCHWPBT</td>\n",
       "      <td>Male</td>\n",
       "      <td>1</td>\n",
       "      <td>1</td>\n",
       "      <td>2018-02-07 19:16:23</td>\n",
       "      <td>2018-02-07 19:16:23</td>\n",
       "      <td>0</td>\n",
       "      <td>Work</td>\n",
       "      <td>-96.44</td>\n",
       "      <td>-67.2</td>\n",
       "      <td>...</td>\n",
       "      <td>1.0</td>\n",
       "      <td>1.0</td>\n",
       "      <td>2018-05-04 22:28:22</td>\n",
       "      <td>2020-04-07 16:35:55</td>\n",
       "      <td>3</td>\n",
       "      <td>1</td>\n",
       "      <td>0</td>\n",
       "      <td>20</td>\n",
       "      <td>TCHWPBT X 0 X 20</td>\n",
       "      <td>0</td>\n",
       "    </tr>\n",
       "    <tr>\n",
       "      <th>3</th>\n",
       "      <td>TCHWPBT</td>\n",
       "      <td>Male</td>\n",
       "      <td>1</td>\n",
       "      <td>1</td>\n",
       "      <td>2018-02-07 19:16:23</td>\n",
       "      <td>2018-02-07 19:16:23</td>\n",
       "      <td>0</td>\n",
       "      <td>Work</td>\n",
       "      <td>-96.44</td>\n",
       "      <td>-67.2</td>\n",
       "      <td>...</td>\n",
       "      <td>1.0</td>\n",
       "      <td>1.0</td>\n",
       "      <td>2018-05-06 19:20:48</td>\n",
       "      <td>2020-04-02 00:56:17</td>\n",
       "      <td>3</td>\n",
       "      <td>1</td>\n",
       "      <td>0</td>\n",
       "      <td>23</td>\n",
       "      <td>TCHWPBT X 0 X 23</td>\n",
       "      <td>0</td>\n",
       "    </tr>\n",
       "    <tr>\n",
       "      <th>4</th>\n",
       "      <td>TCHWPBT</td>\n",
       "      <td>Male</td>\n",
       "      <td>1</td>\n",
       "      <td>1</td>\n",
       "      <td>2018-02-07 19:16:23</td>\n",
       "      <td>2018-02-07 19:16:23</td>\n",
       "      <td>0</td>\n",
       "      <td>Work</td>\n",
       "      <td>-96.44</td>\n",
       "      <td>-67.2</td>\n",
       "      <td>...</td>\n",
       "      <td>1.0</td>\n",
       "      <td>1.0</td>\n",
       "      <td>2018-05-17 22:12:38</td>\n",
       "      <td>2020-04-05 15:57:41</td>\n",
       "      <td>3</td>\n",
       "      <td>1</td>\n",
       "      <td>0</td>\n",
       "      <td>28</td>\n",
       "      <td>TCHWPBT X 0 X 28</td>\n",
       "      <td>0</td>\n",
       "    </tr>\n",
       "  </tbody>\n",
       "</table>\n",
       "<p>5 rows × 45 columns</p>\n",
       "</div>"
      ],
      "text/plain": [
       "  customer_id gender  status_x  verified_x         created_at_x  \\\n",
       "0     TCHWPBT   Male         1           1  2018-02-07 19:16:23   \n",
       "1     TCHWPBT   Male         1           1  2018-02-07 19:16:23   \n",
       "2     TCHWPBT   Male         1           1  2018-02-07 19:16:23   \n",
       "3     TCHWPBT   Male         1           1  2018-02-07 19:16:23   \n",
       "4     TCHWPBT   Male         1           1  2018-02-07 19:16:23   \n",
       "\n",
       "          updated_at_x  location_number location_type  latitude_x  \\\n",
       "0  2018-02-07 19:16:23                0          Work      -96.44   \n",
       "1  2018-02-07 19:16:23                0          Work      -96.44   \n",
       "2  2018-02-07 19:16:23                0          Work      -96.44   \n",
       "3  2018-02-07 19:16:23                0          Work      -96.44   \n",
       "4  2018-02-07 19:16:23                0          Work      -96.44   \n",
       "\n",
       "   longitude_x  ...  country_id  city_id         created_at_y  \\\n",
       "0        -67.2  ...         1.0      1.0  2018-01-30 14:42:04   \n",
       "1        -67.2  ...         1.0      1.0  2018-05-03 12:32:06   \n",
       "2        -67.2  ...         1.0      1.0  2018-05-04 22:28:22   \n",
       "3        -67.2  ...         1.0      1.0  2018-05-06 19:20:48   \n",
       "4        -67.2  ...         1.0      1.0  2018-05-17 22:12:38   \n",
       "\n",
       "          updated_at_y device_type  display_orders  location_number_obj  \\\n",
       "0  2020-04-07 15:12:43           3               1                    0   \n",
       "1  2020-04-05 20:46:03           3               1                    0   \n",
       "2  2020-04-07 16:35:55           3               1                    0   \n",
       "3  2020-04-02 00:56:17           3               1                    0   \n",
       "4  2020-04-05 15:57:41           3               1                    0   \n",
       "\n",
       "   id_obj  CID X LOC_NUM X VENDOR target  \n",
       "0       4         TCHWPBT X 0 X 4      0  \n",
       "1      13        TCHWPBT X 0 X 13      0  \n",
       "2      20        TCHWPBT X 0 X 20      0  \n",
       "3      23        TCHWPBT X 0 X 23      0  \n",
       "4      28        TCHWPBT X 0 X 28      0  \n",
       "\n",
       "[5 rows x 45 columns]"
      ]
     },
     "execution_count": 39,
     "metadata": {},
     "output_type": "execute_result"
    }
   ],
   "source": [
    "full_df = pd.read_csv(\"train_full.csv\")\n",
    "full_df = full_df.drop(['sunday_from_time1', 'sunday_to_time1','sunday_from_time2', 'sunday_to_time2', 'monday_from_time1',\n",
    "'monday_to_time1', 'monday_from_time2', 'monday_to_time2',\n",
    "'tuesday_from_time1', 'tuesday_to_time1', 'tuesday_from_time2',\n",
    "'tuesday_to_time2', 'wednesday_from_time1', 'wednesday_to_time1', 'wednesday_from_time2',\n",
    "'wednesday_to_time2', 'thursday_from_time1', 'thursday_to_time1', 'thursday_from_time2',\n",
    "'thursday_to_time2', 'friday_from_time1', 'friday_to_time1', 'friday_from_time2',\n",
    "'friday_to_time2', 'saturday_from_time1', 'saturday_to_time1', 'saturday_from_time2',\n",
    "'saturday_to_time2'], axis=1)\n",
    "\n",
    "full_df.head()"
   ]
  },
  {
   "cell_type": "markdown",
   "id": "e75dd9bd-9cd4-4108-a5b5-3a535a7dab54",
   "metadata": {},
   "source": [
    "this table seems that does not include the extara information and just includ the data from other tables so in this step we just ignore it and don not put it in data base."
   ]
  },
  {
   "cell_type": "markdown",
   "id": "fcd9914a-8315-49c8-8216-a62ee6d19bdd",
   "metadata": {},
   "source": [
    "<div class=\"alert alert-block alert-info\" dir=\"ltr\" style=\"text-align: center;\"><strong><span style=\"font-family: courier new, courier; font-size: 18pt;\">Data Cleaning</span></strong>\n",
    "<p dir=\"rtl\" style=\"text-align: center;\"><strong><span style=\"font-family: courier new, courier;\"><span style=\"font-size: 18pt;\">Deal with missing value and Remove duplicate data</span><br /></span></strong></p>\n",
    "</div>"
   ]
  },
  {
   "cell_type": "markdown",
   "id": "e6ea342c-a10a-4656-9b4e-ee85b98575f8",
   "metadata": {},
   "source": [
    "in first step before creating database, we need to do some data cleaning :\n",
    "remove duplicate data from tables due to creating realtion between the datasets if they includes duplicate data cause the error.\n",
    "by using function drop.duplicate we can do this task:"
   ]
  },
  {
   "cell_type": "code",
   "execution_count": 44,
   "id": "0d0bb5fa-9f3b-4234-869b-3e1a3a8d1cd8",
   "metadata": {},
   "outputs": [
    {
     "name": "stdout",
     "output_type": "stream",
     "text": [
      "<class 'pandas.core.frame.DataFrame'>\n",
      "RangeIndex: 34674 entries, 0 to 34673\n",
      "Data columns (total 8 columns):\n",
      " #   Column             Non-Null Count  Dtype  \n",
      "---  ------             --------------  -----  \n",
      " 0   akeed_customer_id  34674 non-null  object \n",
      " 1   gender             22520 non-null  object \n",
      " 2   dob                3046 non-null   float64\n",
      " 3   status             34674 non-null  int64  \n",
      " 4   verified           34674 non-null  int64  \n",
      " 5   language           21099 non-null  object \n",
      " 6   created_at         34674 non-null  object \n",
      " 7   updated_at         34674 non-null  object \n",
      "dtypes: float64(1), int64(2), object(5)\n",
      "memory usage: 2.1+ MB\n"
     ]
    }
   ],
   "source": [
    "customers_df = customers_df.drop_duplicates()\n",
    "customers_df.info()"
   ]
  },
  {
   "cell_type": "code",
   "execution_count": 46,
   "id": "4d27374c-da8e-4016-8888-f30c35396054",
   "metadata": {},
   "outputs": [
    {
     "name": "stdout",
     "output_type": "stream",
     "text": [
      "<class 'pandas.core.frame.DataFrame'>\n",
      "RangeIndex: 135303 entries, 0 to 135302\n",
      "Data columns (total 26 columns):\n",
      " #   Column                          Non-Null Count   Dtype  \n",
      "---  ------                          --------------   -----  \n",
      " 0   akeed_order_id                  135233 non-null  float64\n",
      " 1   customer_id                     135303 non-null  object \n",
      " 2   item_count                      128378 non-null  float64\n",
      " 3   grand_total                     135303 non-null  float64\n",
      " 4   payment_mode                    135303 non-null  int64  \n",
      " 5   promo_code                      4305 non-null    object \n",
      " 6   vendor_discount_amount          135303 non-null  float64\n",
      " 7   promo_code_discount_percentage  65880 non-null   float64\n",
      " 8   is_favorite                     100108 non-null  object \n",
      " 9   is_rated                        135303 non-null  object \n",
      " 10  vendor_rating                   45220 non-null   float64\n",
      " 11  driver_rating                   135303 non-null  float64\n",
      " 12  deliverydistance                135303 non-null  float64\n",
      " 13  preparationtime                 79743 non-null   float64\n",
      " 14  delivery_time                   5123 non-null    object \n",
      " 15  order_accepted_time             86955 non-null   object \n",
      " 16  driver_accepted_time            46458 non-null   object \n",
      " 17  ready_for_pickup_time           84249 non-null   object \n",
      " 18  picked_up_time                  83865 non-null   object \n",
      " 19  delivered_time                  85741 non-null   object \n",
      " 20  delivery_date                   35544 non-null   object \n",
      " 21  vendor_id                       135303 non-null  int64  \n",
      " 22  created_at                      135303 non-null  object \n",
      " 23  location_number                 135303 non-null  int64  \n",
      " 24  location_type                   86410 non-null   object \n",
      " 25  CID_LOC_NUM_VENDOR              135303 non-null  object \n",
      "dtypes: float64(9), int64(3), object(14)\n",
      "memory usage: 26.8+ MB\n"
     ]
    }
   ],
   "source": [
    "order_df=order_df.drop_duplicates()\n",
    "order_df.info()"
   ]
  },
  {
   "cell_type": "code",
   "execution_count": 48,
   "id": "5b8e890f-381e-4c83-97cc-1e46ef922396",
   "metadata": {},
   "outputs": [
    {
     "name": "stdout",
     "output_type": "stream",
     "text": [
      "<class 'pandas.core.frame.DataFrame'>\n",
      "RangeIndex: 59503 entries, 0 to 59502\n",
      "Data columns (total 5 columns):\n",
      " #   Column           Non-Null Count  Dtype  \n",
      "---  ------           --------------  -----  \n",
      " 0   customer_id      59503 non-null  object \n",
      " 1   location_number  59503 non-null  int64  \n",
      " 2   location_type    32294 non-null  object \n",
      " 3   latitude         59497 non-null  float64\n",
      " 4   longitude        59497 non-null  float64\n",
      "dtypes: float64(2), int64(1), object(2)\n",
      "memory usage: 2.3+ MB\n"
     ]
    }
   ],
   "source": [
    "location_df=location_df.drop_duplicates()\n",
    "location_df.info()"
   ]
  },
  {
   "cell_type": "code",
   "execution_count": 50,
   "id": "4d14d070-bc2a-4734-aafe-f8f9cc62852a",
   "metadata": {},
   "outputs": [
    {
     "name": "stdout",
     "output_type": "stream",
     "text": [
      "<class 'pandas.core.frame.DataFrame'>\n",
      "RangeIndex: 100 entries, 0 to 99\n",
      "Data columns (total 31 columns):\n",
      " #   Column               Non-Null Count  Dtype  \n",
      "---  ------               --------------  -----  \n",
      " 0   id                   100 non-null    int64  \n",
      " 1   authentication_id    100 non-null    float64\n",
      " 2   latitude             100 non-null    float64\n",
      " 3   longitude            100 non-null    float64\n",
      " 4   vendor_category_en   100 non-null    object \n",
      " 5   vendor_category_id   100 non-null    float64\n",
      " 6   delivery_charge      100 non-null    float64\n",
      " 7   serving_distance     100 non-null    float64\n",
      " 8   is_open              100 non-null    float64\n",
      " 9   OpeningTime          91 non-null     object \n",
      " 10  OpeningTime2         91 non-null     object \n",
      " 11  prepration_time      100 non-null    int64  \n",
      " 12  commission           85 non-null     float64\n",
      " 13  is_akeed_delivering  100 non-null    object \n",
      " 14  discount_percentage  100 non-null    float64\n",
      " 15  status               100 non-null    float64\n",
      " 16  verified             100 non-null    int64  \n",
      " 17  rank                 100 non-null    int64  \n",
      " 18  language             85 non-null     object \n",
      " 19  vendor_rating        100 non-null    float64\n",
      " 20  primary_tags         77 non-null     object \n",
      " 21  open_close_flags     100 non-null    float64\n",
      " 22  vendor_tag           97 non-null     object \n",
      " 23  vendor_tag_name      97 non-null     object \n",
      " 24  one_click_vendor     100 non-null    object \n",
      " 25  country_id           100 non-null    float64\n",
      " 26  city_id              100 non-null    float64\n",
      " 27  created_at           100 non-null    object \n",
      " 28  updated_at           100 non-null    object \n",
      " 29  device_type          100 non-null    int64  \n",
      " 30  display_orders       100 non-null    int64  \n",
      "dtypes: float64(14), int64(6), object(11)\n",
      "memory usage: 24.3+ KB\n"
     ]
    }
   ],
   "source": [
    "vendor_df=vendor_df.drop_duplicates()\n",
    "vendor_df.info()"
   ]
  },
  {
   "cell_type": "code",
   "execution_count": 52,
   "id": "69127bb9-688f-4d5d-97cb-df6ea151a2a5",
   "metadata": {},
   "outputs": [
    {
     "data": {
      "text/html": [
       "<div>\n",
       "<style scoped>\n",
       "    .dataframe tbody tr th:only-of-type {\n",
       "        vertical-align: middle;\n",
       "    }\n",
       "\n",
       "    .dataframe tbody tr th {\n",
       "        vertical-align: top;\n",
       "    }\n",
       "\n",
       "    .dataframe thead th {\n",
       "        text-align: right;\n",
       "    }\n",
       "</style>\n",
       "<table border=\"1\" class=\"dataframe\">\n",
       "  <thead>\n",
       "    <tr style=\"text-align: right;\">\n",
       "      <th></th>\n",
       "      <th>id</th>\n",
       "      <th>authentication_id</th>\n",
       "      <th>latitude</th>\n",
       "      <th>longitude</th>\n",
       "      <th>vendor_category_en</th>\n",
       "      <th>vendor_category_id</th>\n",
       "      <th>delivery_charge</th>\n",
       "      <th>serving_distance</th>\n",
       "      <th>is_open</th>\n",
       "      <th>OpeningTime</th>\n",
       "      <th>...</th>\n",
       "      <th>open_close_flags</th>\n",
       "      <th>vendor_tag</th>\n",
       "      <th>vendor_tag_name</th>\n",
       "      <th>one_click_vendor</th>\n",
       "      <th>country_id</th>\n",
       "      <th>city_id</th>\n",
       "      <th>created_at</th>\n",
       "      <th>updated_at</th>\n",
       "      <th>device_type</th>\n",
       "      <th>display_orders</th>\n",
       "    </tr>\n",
       "  </thead>\n",
       "  <tbody>\n",
       "    <tr>\n",
       "      <th>0</th>\n",
       "      <td>4</td>\n",
       "      <td>118597.0</td>\n",
       "      <td>-0.588596</td>\n",
       "      <td>0.754434</td>\n",
       "      <td>Restaurants</td>\n",
       "      <td>2.0</td>\n",
       "      <td>0.0</td>\n",
       "      <td>6.0</td>\n",
       "      <td>1.0</td>\n",
       "      <td>11:00AM-11:30PM</td>\n",
       "      <td>...</td>\n",
       "      <td>1.0</td>\n",
       "      <td>2,4,5,8,91,22,12,24,16,23</td>\n",
       "      <td>Arabic,Breakfast,Burgers,Desserts,Free Deliver...</td>\n",
       "      <td>Y</td>\n",
       "      <td>1.0</td>\n",
       "      <td>1.0</td>\n",
       "      <td>2018-01-30 14:42:04</td>\n",
       "      <td>2020-04-07 15:12:43</td>\n",
       "      <td>3</td>\n",
       "      <td>1</td>\n",
       "    </tr>\n",
       "    <tr>\n",
       "      <th>1</th>\n",
       "      <td>13</td>\n",
       "      <td>118608.0</td>\n",
       "      <td>-0.471654</td>\n",
       "      <td>0.744470</td>\n",
       "      <td>Restaurants</td>\n",
       "      <td>2.0</td>\n",
       "      <td>0.7</td>\n",
       "      <td>5.0</td>\n",
       "      <td>1.0</td>\n",
       "      <td>08:30AM-10:30PM</td>\n",
       "      <td>...</td>\n",
       "      <td>1.0</td>\n",
       "      <td>4,41,51,34,27,15,24,16,28</td>\n",
       "      <td>Breakfast,Cakes,Crepes,Italian,Pasta,Pizzas,Sa...</td>\n",
       "      <td>Y</td>\n",
       "      <td>1.0</td>\n",
       "      <td>1.0</td>\n",
       "      <td>2018-05-03 12:32:06</td>\n",
       "      <td>2020-04-05 20:46:03</td>\n",
       "      <td>3</td>\n",
       "      <td>1</td>\n",
       "    </tr>\n",
       "    <tr>\n",
       "      <th>2</th>\n",
       "      <td>20</td>\n",
       "      <td>118616.0</td>\n",
       "      <td>-0.407527</td>\n",
       "      <td>0.643681</td>\n",
       "      <td>Restaurants</td>\n",
       "      <td>2.0</td>\n",
       "      <td>0.0</td>\n",
       "      <td>8.0</td>\n",
       "      <td>1.0</td>\n",
       "      <td>08:00AM-10:45PM</td>\n",
       "      <td>...</td>\n",
       "      <td>1.0</td>\n",
       "      <td>4,8,91,10</td>\n",
       "      <td>Breakfast,Desserts,Free Delivery,Indian</td>\n",
       "      <td>Y</td>\n",
       "      <td>1.0</td>\n",
       "      <td>1.0</td>\n",
       "      <td>2018-05-04 22:28:22</td>\n",
       "      <td>2020-04-07 16:35:55</td>\n",
       "      <td>3</td>\n",
       "      <td>1</td>\n",
       "    </tr>\n",
       "    <tr>\n",
       "      <th>3</th>\n",
       "      <td>23</td>\n",
       "      <td>118619.0</td>\n",
       "      <td>-0.585385</td>\n",
       "      <td>0.753811</td>\n",
       "      <td>Restaurants</td>\n",
       "      <td>2.0</td>\n",
       "      <td>0.0</td>\n",
       "      <td>5.0</td>\n",
       "      <td>1.0</td>\n",
       "      <td>10:59AM-10:30PM</td>\n",
       "      <td>...</td>\n",
       "      <td>1.0</td>\n",
       "      <td>5,8,30,24</td>\n",
       "      <td>Burgers,Desserts,Fries,Salads</td>\n",
       "      <td>Y</td>\n",
       "      <td>1.0</td>\n",
       "      <td>1.0</td>\n",
       "      <td>2018-05-06 19:20:48</td>\n",
       "      <td>2020-04-02 00:56:17</td>\n",
       "      <td>3</td>\n",
       "      <td>1</td>\n",
       "    </tr>\n",
       "    <tr>\n",
       "      <th>4</th>\n",
       "      <td>28</td>\n",
       "      <td>118624.0</td>\n",
       "      <td>0.480602</td>\n",
       "      <td>0.552850</td>\n",
       "      <td>Restaurants</td>\n",
       "      <td>2.0</td>\n",
       "      <td>0.7</td>\n",
       "      <td>15.0</td>\n",
       "      <td>1.0</td>\n",
       "      <td>11:00AM-11:45PM</td>\n",
       "      <td>...</td>\n",
       "      <td>1.0</td>\n",
       "      <td>5</td>\n",
       "      <td>Burgers</td>\n",
       "      <td>Y</td>\n",
       "      <td>1.0</td>\n",
       "      <td>1.0</td>\n",
       "      <td>2018-05-17 22:12:38</td>\n",
       "      <td>2020-04-05 15:57:41</td>\n",
       "      <td>3</td>\n",
       "      <td>1</td>\n",
       "    </tr>\n",
       "  </tbody>\n",
       "</table>\n",
       "<p>5 rows × 31 columns</p>\n",
       "</div>"
      ],
      "text/plain": [
       "   id  authentication_id  latitude  longitude vendor_category_en  \\\n",
       "0   4           118597.0 -0.588596   0.754434        Restaurants   \n",
       "1  13           118608.0 -0.471654   0.744470        Restaurants   \n",
       "2  20           118616.0 -0.407527   0.643681        Restaurants   \n",
       "3  23           118619.0 -0.585385   0.753811        Restaurants   \n",
       "4  28           118624.0  0.480602   0.552850        Restaurants   \n",
       "\n",
       "   vendor_category_id  delivery_charge  serving_distance  is_open  \\\n",
       "0                 2.0              0.0               6.0      1.0   \n",
       "1                 2.0              0.7               5.0      1.0   \n",
       "2                 2.0              0.0               8.0      1.0   \n",
       "3                 2.0              0.0               5.0      1.0   \n",
       "4                 2.0              0.7              15.0      1.0   \n",
       "\n",
       "       OpeningTime  ... open_close_flags                 vendor_tag  \\\n",
       "0  11:00AM-11:30PM  ...              1.0  2,4,5,8,91,22,12,24,16,23   \n",
       "1  08:30AM-10:30PM  ...              1.0  4,41,51,34,27,15,24,16,28   \n",
       "2  08:00AM-10:45PM  ...              1.0                  4,8,91,10   \n",
       "3  10:59AM-10:30PM  ...              1.0                  5,8,30,24   \n",
       "4  11:00AM-11:45PM  ...              1.0                          5   \n",
       "\n",
       "                                     vendor_tag_name one_click_vendor  \\\n",
       "0  Arabic,Breakfast,Burgers,Desserts,Free Deliver...                Y   \n",
       "1  Breakfast,Cakes,Crepes,Italian,Pasta,Pizzas,Sa...                Y   \n",
       "2            Breakfast,Desserts,Free Delivery,Indian                Y   \n",
       "3                      Burgers,Desserts,Fries,Salads                Y   \n",
       "4                                            Burgers                Y   \n",
       "\n",
       "   country_id  city_id           created_at           updated_at device_type  \\\n",
       "0         1.0      1.0  2018-01-30 14:42:04  2020-04-07 15:12:43           3   \n",
       "1         1.0      1.0  2018-05-03 12:32:06  2020-04-05 20:46:03           3   \n",
       "2         1.0      1.0  2018-05-04 22:28:22  2020-04-07 16:35:55           3   \n",
       "3         1.0      1.0  2018-05-06 19:20:48  2020-04-02 00:56:17           3   \n",
       "4         1.0      1.0  2018-05-17 22:12:38  2020-04-05 15:57:41           3   \n",
       "\n",
       "   display_orders  \n",
       "0               1  \n",
       "1               1  \n",
       "2               1  \n",
       "3               1  \n",
       "4               1  \n",
       "\n",
       "[5 rows x 31 columns]"
      ]
     },
     "execution_count": 52,
     "metadata": {},
     "output_type": "execute_result"
    }
   ],
   "source": [
    "vendor_df.head()"
   ]
  },
  {
   "cell_type": "code",
   "execution_count": 54,
   "id": "b4bbd353-9790-436d-85b1-6e75b7afaefb",
   "metadata": {},
   "outputs": [
    {
     "name": "stdout",
     "output_type": "stream",
     "text": [
      "<class 'pandas.core.frame.DataFrame'>\n",
      "RangeIndex: 5802400 entries, 0 to 5802399\n",
      "Data columns (total 45 columns):\n",
      " #   Column                  Dtype  \n",
      "---  ------                  -----  \n",
      " 0   customer_id             object \n",
      " 1   gender                  object \n",
      " 2   status_x                int64  \n",
      " 3   verified_x              int64  \n",
      " 4   created_at_x            object \n",
      " 5   updated_at_x            object \n",
      " 6   location_number         int64  \n",
      " 7   location_type           object \n",
      " 8   latitude_x              float64\n",
      " 9   longitude_x             float64\n",
      " 10  id                      int64  \n",
      " 11  authentication_id       float64\n",
      " 12  latitude_y              float64\n",
      " 13  longitude_y             float64\n",
      " 14  vendor_category_en      object \n",
      " 15  vendor_category_id      float64\n",
      " 16  delivery_charge         float64\n",
      " 17  serving_distance        float64\n",
      " 18  is_open                 float64\n",
      " 19  OpeningTime             object \n",
      " 20  OpeningTime2            object \n",
      " 21  prepration_time         int64  \n",
      " 22  commission              float64\n",
      " 23  is_akeed_delivering     object \n",
      " 24  discount_percentage     float64\n",
      " 25  status_y                float64\n",
      " 26  verified_y              int64  \n",
      " 27  rank                    int64  \n",
      " 28  language                object \n",
      " 29  vendor_rating           float64\n",
      " 30  primary_tags            object \n",
      " 31  open_close_flags        float64\n",
      " 32  vendor_tag              object \n",
      " 33  vendor_tag_name         object \n",
      " 34  one_click_vendor        object \n",
      " 35  country_id              float64\n",
      " 36  city_id                 float64\n",
      " 37  created_at_y            object \n",
      " 38  updated_at_y            object \n",
      " 39  device_type             int64  \n",
      " 40  display_orders          int64  \n",
      " 41  location_number_obj     int64  \n",
      " 42  id_obj                  int64  \n",
      " 43  CID X LOC_NUM X VENDOR  object \n",
      " 44  target                  int64  \n",
      "dtypes: float64(16), int64(12), object(17)\n",
      "memory usage: 1.9+ GB\n"
     ]
    }
   ],
   "source": [
    "full_df=full_df.drop_duplicates()\n",
    "full_df.info()"
   ]
  },
  {
   "cell_type": "markdown",
   "id": "80702a29-5b86-41b8-b40d-f50b119bcb95",
   "metadata": {},
   "source": [
    "now we start to deal with missing values in datasets:\n",
    "each column that includes more than 50% missing value can be removed "
   ]
  },
  {
   "cell_type": "code",
   "execution_count": 57,
   "id": "da84f021-c247-4088-a278-c872b6f15228",
   "metadata": {},
   "outputs": [
    {
     "name": "stdout",
     "output_type": "stream",
     "text": [
      "akeed_customer_id        0\n",
      "gender               12154\n",
      "dob                  31628\n",
      "status                   0\n",
      "verified                 0\n",
      "language             13575\n",
      "created_at               0\n",
      "updated_at               0\n",
      "dtype: int64\n"
     ]
    }
   ],
   "source": [
    "print(customers_df.isnull().sum())"
   ]
  },
  {
   "cell_type": "code",
   "execution_count": 59,
   "id": "24168aea-acaa-4aed-a356-7cf43a2e1a47",
   "metadata": {},
   "outputs": [
    {
     "name": "stdout",
     "output_type": "stream",
     "text": [
      "akeed_customer_id     0.000000\n",
      "gender               35.052200\n",
      "dob                  91.215320\n",
      "status                0.000000\n",
      "verified              0.000000\n",
      "language             39.150372\n",
      "created_at            0.000000\n",
      "updated_at            0.000000\n",
      "dtype: float64\n"
     ]
    }
   ],
   "source": [
    "missing_percent=customers_df.isnull().mean()*100\n",
    "print(missing_percent)"
   ]
  },
  {
   "cell_type": "markdown",
   "id": "05df28ca-725c-4798-977e-a863b2905afa",
   "metadata": {},
   "source": [
    "for customer_df as it is visible about 91% of dob is missing value, however, it is a big proportion and logically it can be removed but due to a web application that we should design to get customer information so in this step we keep this feature replaces missing values with \"null\":"
   ]
  },
  {
   "cell_type": "code",
   "execution_count": 62,
   "id": "b4a990ca-d8dd-4775-bc36-2a209627918d",
   "metadata": {},
   "outputs": [],
   "source": [
    "customers_df['dob'] = customers_df['dob'].fillna('null')"
   ]
  },
  {
   "cell_type": "code",
   "execution_count": 64,
   "id": "f972b610-2e79-4bc3-a3bb-3b276662a7a1",
   "metadata": {},
   "outputs": [],
   "source": [
    "customers_df.fillna(customers_df['gender'].mode().iloc[0], inplace=True)"
   ]
  },
  {
   "cell_type": "code",
   "execution_count": 66,
   "id": "15a2927f-577e-45bf-95cd-2e5f4b288687",
   "metadata": {},
   "outputs": [],
   "source": [
    "customers_df.fillna(customers_df['language'].mode().iloc[0], inplace=True)"
   ]
  },
  {
   "cell_type": "code",
   "execution_count": 68,
   "id": "e3238ebc-39e2-4739-a7cb-b19bf0e1c139",
   "metadata": {},
   "outputs": [
    {
     "name": "stdout",
     "output_type": "stream",
     "text": [
      "akeed_customer_id    0\n",
      "gender               0\n",
      "dob                  0\n",
      "status               0\n",
      "verified             0\n",
      "language             0\n",
      "created_at           0\n",
      "updated_at           0\n",
      "dtype: int64\n"
     ]
    }
   ],
   "source": [
    "print(customers_df.isnull().sum())"
   ]
  },
  {
   "cell_type": "code",
   "execution_count": 70,
   "id": "8cf4c881-3a0c-4f76-96fb-78f555edd6ec",
   "metadata": {},
   "outputs": [
    {
     "name": "stdout",
     "output_type": "stream",
     "text": [
      "akeed_customer_id    0.0\n",
      "gender               0.0\n",
      "dob                  0.0\n",
      "status               0.0\n",
      "verified             0.0\n",
      "language             0.0\n",
      "created_at           0.0\n",
      "updated_at           0.0\n",
      "dtype: float64\n"
     ]
    }
   ],
   "source": [
    "missing_percent=customers_df.isnull().mean()*100\n",
    "print(missing_percent)"
   ]
  },
  {
   "cell_type": "code",
   "execution_count": 72,
   "id": "ceda1664-6411-4ffa-8416-982994cf0728",
   "metadata": {},
   "outputs": [
    {
     "name": "stdout",
     "output_type": "stream",
     "text": [
      "customer_id            0\n",
      "location_number        0\n",
      "location_type      27209\n",
      "latitude               6\n",
      "longitude              6\n",
      "dtype: int64\n"
     ]
    }
   ],
   "source": [
    "print(location_df.isnull().sum())"
   ]
  },
  {
   "cell_type": "code",
   "execution_count": 74,
   "id": "d86b8aa3-1935-4749-bc0e-2d9a715954ec",
   "metadata": {},
   "outputs": [
    {
     "name": "stdout",
     "output_type": "stream",
     "text": [
      "customer_id         0.000000\n",
      "location_number     0.000000\n",
      "location_type      45.727106\n",
      "latitude            0.010084\n",
      "longitude           0.010084\n",
      "dtype: float64\n"
     ]
    }
   ],
   "source": [
    "miss_percent=location_df.isnull().mean()*100\n",
    "print(miss_percent)"
   ]
  },
  {
   "cell_type": "code",
   "execution_count": 76,
   "id": "0cd0e970-205b-4c0c-a1c1-ba98c6e58405",
   "metadata": {},
   "outputs": [],
   "source": [
    "location_df['location_type'] = location_df['location_type'].fillna('unknown')"
   ]
  },
  {
   "cell_type": "code",
   "execution_count": 78,
   "id": "d44494de-7f09-4360-8c94-5f5b482d11d4",
   "metadata": {},
   "outputs": [
    {
     "name": "stdout",
     "output_type": "stream",
     "text": [
      "      customer_id  location_number location_type  latitude  longitude\n",
      "24726     7URX8JP                0         Other       NaN        NaN\n",
      "35657     NSQRO1H                2       unknown       NaN        NaN\n",
      "42953     55MCNEF                0          Home       NaN        NaN\n",
      "45266     VZIK43C                2       unknown       NaN        NaN\n",
      "50037     QFWLNUK                2       unknown       NaN        NaN\n",
      "59198     O0LALCF                0       unknown       NaN        NaN\n"
     ]
    }
   ],
   "source": [
    "latitude_longitude_missing = location_df[location_df['latitude'].isnull() | location_df['longitude'].isnull()]\n",
    "print(latitude_longitude_missing)"
   ]
  },
  {
   "cell_type": "markdown",
   "id": "b071ff46-5380-424a-827f-6d132a5ac28d",
   "metadata": {},
   "source": [
    "there are 6 records that their 'latitude' and 'longitude' is missing, after checking the table \"orders\", there are orders that are related to these 6 records so, if we remove these records we should remove their orders too, but it is not suitable solution, it seems filling these missing values with a word like \"null\" in this step is the better solution. "
   ]
  },
  {
   "cell_type": "code",
   "execution_count": 81,
   "id": "a7d1940e-5dc1-4ff1-8cf4-745190cb3b31",
   "metadata": {},
   "outputs": [],
   "source": [
    "location_df['latitude'] = location_df['latitude'].fillna('null')\n",
    "location_df['longitude'] = location_df['longitude'].fillna('null')"
   ]
  },
  {
   "cell_type": "code",
   "execution_count": 83,
   "id": "c9bff869-c742-4b77-80ee-be5396cd16e9",
   "metadata": {},
   "outputs": [
    {
     "name": "stdout",
     "output_type": "stream",
     "text": [
      "customer_id        0\n",
      "location_number    0\n",
      "location_type      0\n",
      "latitude           0\n",
      "longitude          0\n",
      "dtype: int64\n"
     ]
    }
   ],
   "source": [
    "print(location_df.isnull().sum())"
   ]
  },
  {
   "cell_type": "code",
   "execution_count": 85,
   "id": "c226560b-da36-4b4e-bd19-7128fdb592a0",
   "metadata": {},
   "outputs": [
    {
     "name": "stdout",
     "output_type": "stream",
     "text": [
      "customer_id        0.0\n",
      "location_number    0.0\n",
      "location_type      0.0\n",
      "latitude           0.0\n",
      "longitude          0.0\n",
      "dtype: float64\n"
     ]
    }
   ],
   "source": [
    "miss_percent=location_df.isnull().mean()*100\n",
    "print(miss_percent)"
   ]
  },
  {
   "cell_type": "code",
   "execution_count": 87,
   "id": "8b37c031-9794-4efd-9bd3-c21fe0c69ea5",
   "metadata": {},
   "outputs": [
    {
     "name": "stdout",
     "output_type": "stream",
     "text": [
      "id                      0\n",
      "authentication_id       0\n",
      "latitude                0\n",
      "longitude               0\n",
      "vendor_category_en      0\n",
      "vendor_category_id      0\n",
      "delivery_charge         0\n",
      "serving_distance        0\n",
      "is_open                 0\n",
      "OpeningTime             9\n",
      "OpeningTime2            9\n",
      "prepration_time         0\n",
      "commission             15\n",
      "is_akeed_delivering     0\n",
      "discount_percentage     0\n",
      "status                  0\n",
      "verified                0\n",
      "rank                    0\n",
      "language               15\n",
      "vendor_rating           0\n",
      "primary_tags           23\n",
      "open_close_flags        0\n",
      "vendor_tag              3\n",
      "vendor_tag_name         3\n",
      "one_click_vendor        0\n",
      "country_id              0\n",
      "city_id                 0\n",
      "created_at              0\n",
      "updated_at              0\n",
      "device_type             0\n",
      "display_orders          0\n",
      "dtype: int64\n"
     ]
    }
   ],
   "source": [
    "print(vendor_df.isnull().sum())"
   ]
  },
  {
   "cell_type": "code",
   "execution_count": 89,
   "id": "97a9b403-2df6-4772-bde3-ea89060ae0dc",
   "metadata": {},
   "outputs": [
    {
     "name": "stdout",
     "output_type": "stream",
     "text": [
      "id                      0.0\n",
      "authentication_id       0.0\n",
      "latitude                0.0\n",
      "longitude               0.0\n",
      "vendor_category_en      0.0\n",
      "vendor_category_id      0.0\n",
      "delivery_charge         0.0\n",
      "serving_distance        0.0\n",
      "is_open                 0.0\n",
      "OpeningTime             9.0\n",
      "OpeningTime2            9.0\n",
      "prepration_time         0.0\n",
      "commission             15.0\n",
      "is_akeed_delivering     0.0\n",
      "discount_percentage     0.0\n",
      "status                  0.0\n",
      "verified                0.0\n",
      "rank                    0.0\n",
      "language               15.0\n",
      "vendor_rating           0.0\n",
      "primary_tags           23.0\n",
      "open_close_flags        0.0\n",
      "vendor_tag              3.0\n",
      "vendor_tag_name         3.0\n",
      "one_click_vendor        0.0\n",
      "country_id              0.0\n",
      "city_id                 0.0\n",
      "created_at              0.0\n",
      "updated_at              0.0\n",
      "device_type             0.0\n",
      "display_orders          0.0\n",
      "dtype: float64\n"
     ]
    }
   ],
   "source": [
    "miss_percent=vendor_df.isnull().mean()*100\n",
    "print(miss_percent)"
   ]
  },
  {
   "cell_type": "code",
   "execution_count": 91,
   "id": "28fd0d51-a3ac-43c6-a282-146390d091d7",
   "metadata": {},
   "outputs": [
    {
     "name": "stderr",
     "output_type": "stream",
     "text": [
      "C:\\Users\\karimi\\AppData\\Local\\Temp\\ipykernel_12108\\3491570037.py:2: FutureWarning: Setting an item of incompatible dtype is deprecated and will raise an error in a future version of pandas. Value 'EN' has dtype incompatible with float64, please explicitly cast to a compatible dtype first.\n",
      "  vendor_df.fillna(vendor_df['language'].mode().iloc[0], inplace=True)\n"
     ]
    }
   ],
   "source": [
    "vendor_df['language'] = vendor_df['language'].astype(str)\n",
    "vendor_df.fillna(vendor_df['language'].mode().iloc[0], inplace=True)"
   ]
  },
  {
   "cell_type": "code",
   "execution_count": 93,
   "id": "ec237d1a-a997-49ee-93e3-80ff97b5f22c",
   "metadata": {},
   "outputs": [],
   "source": [
    "vendor_df.fillna(vendor_df['language'].mode().iloc[0], inplace=True)"
   ]
  },
  {
   "cell_type": "code",
   "execution_count": 95,
   "id": "3e92b0a3-1d24-4c31-9015-21af3330e81e",
   "metadata": {},
   "outputs": [],
   "source": [
    "vendor_df['OpeningTime'] = vendor_df['OpeningTime'].fillna('null')"
   ]
  },
  {
   "cell_type": "code",
   "execution_count": 97,
   "id": "a84513d1-126f-4e19-a3f7-1d7409fbaed0",
   "metadata": {},
   "outputs": [],
   "source": [
    "vendor_df['OpeningTime2'] = vendor_df['OpeningTime2'].fillna('-')"
   ]
  },
  {
   "cell_type": "code",
   "execution_count": 99,
   "id": "f3027749-0d40-4709-bc0d-aebe1b6a1731",
   "metadata": {},
   "outputs": [],
   "source": [
    "vendor_df['primary_tags'] = vendor_df['primary_tags'].fillna('unknown')\n",
    "vendor_df['vendor_tag'] = vendor_df['vendor_tag'].fillna('unknown')\n",
    "vendor_df['vendor_tag_name'] = vendor_df['vendor_tag_name'].fillna('unknown')"
   ]
  },
  {
   "cell_type": "code",
   "execution_count": 101,
   "id": "089fe57f-cb75-4096-8385-f78087178578",
   "metadata": {},
   "outputs": [
    {
     "name": "stdout",
     "output_type": "stream",
     "text": [
      "id                     0.0\n",
      "authentication_id      0.0\n",
      "latitude               0.0\n",
      "longitude              0.0\n",
      "vendor_category_en     0.0\n",
      "vendor_category_id     0.0\n",
      "delivery_charge        0.0\n",
      "serving_distance       0.0\n",
      "is_open                0.0\n",
      "OpeningTime            0.0\n",
      "OpeningTime2           0.0\n",
      "prepration_time        0.0\n",
      "commission             0.0\n",
      "is_akeed_delivering    0.0\n",
      "discount_percentage    0.0\n",
      "status                 0.0\n",
      "verified               0.0\n",
      "rank                   0.0\n",
      "language               0.0\n",
      "vendor_rating          0.0\n",
      "primary_tags           0.0\n",
      "open_close_flags       0.0\n",
      "vendor_tag             0.0\n",
      "vendor_tag_name        0.0\n",
      "one_click_vendor       0.0\n",
      "country_id             0.0\n",
      "city_id                0.0\n",
      "created_at             0.0\n",
      "updated_at             0.0\n",
      "device_type            0.0\n",
      "display_orders         0.0\n",
      "dtype: float64\n"
     ]
    }
   ],
   "source": [
    "miss_percent=vendor_df.isnull().mean()*100\n",
    "print(miss_percent)"
   ]
  },
  {
   "cell_type": "code",
   "execution_count": 103,
   "id": "9242729a-67ca-4302-a602-0b3a849f0b63",
   "metadata": {},
   "outputs": [
    {
     "name": "stdout",
     "output_type": "stream",
     "text": [
      "akeed_order_id                        70\n",
      "customer_id                            0\n",
      "item_count                          6925\n",
      "grand_total                            0\n",
      "payment_mode                           0\n",
      "promo_code                        130998\n",
      "vendor_discount_amount                 0\n",
      "promo_code_discount_percentage     69423\n",
      "is_favorite                        35195\n",
      "is_rated                               0\n",
      "vendor_rating                      90083\n",
      "driver_rating                          0\n",
      "deliverydistance                       0\n",
      "preparationtime                    55560\n",
      "delivery_time                     130180\n",
      "order_accepted_time                48348\n",
      "driver_accepted_time               88845\n",
      "ready_for_pickup_time              51054\n",
      "picked_up_time                     51438\n",
      "delivered_time                     49562\n",
      "delivery_date                      99759\n",
      "vendor_id                              0\n",
      "created_at                             0\n",
      "location_number                        0\n",
      "location_type                      48893\n",
      "CID_LOC_NUM_VENDOR                     0\n",
      "dtype: int64\n"
     ]
    }
   ],
   "source": [
    "print(order_df.isnull().sum())"
   ]
  },
  {
   "cell_type": "code",
   "execution_count": 105,
   "id": "93972507-bec9-4916-9a59-f9f6cfe7b7c1",
   "metadata": {},
   "outputs": [
    {
     "name": "stdout",
     "output_type": "stream",
     "text": [
      "55161\n"
     ]
    }
   ],
   "source": [
    "print(order_df['CID_LOC_NUM_VENDOR'].duplicated().sum())"
   ]
  },
  {
   "cell_type": "code",
   "execution_count": 107,
   "id": "65dde6c3-eb03-4bec-bb00-cc11ceceee28",
   "metadata": {},
   "outputs": [
    {
     "name": "stdout",
     "output_type": "stream",
     "text": [
      "        akeed_order_id customer_id  item_count  grand_total  payment_mode  \\\n",
      "94367              NaN     H0KPCSI         3.0          0.0             5   \n",
      "94369              NaN     H0KPCSI         3.0          0.0             5   \n",
      "94370              NaN     H0KPCSI         3.0          0.0             5   \n",
      "94373              NaN     H0KPCSI         3.0          0.0             5   \n",
      "94379              NaN     H0KPCSI         3.0          0.0             5   \n",
      "...                ...         ...         ...          ...           ...   \n",
      "113323             NaN     OB9AH6K         1.0          0.0             5   \n",
      "118235             NaN     AIOLWXY         1.0          0.0             5   \n",
      "118236             NaN     AIOLWXY         1.0          0.0             5   \n",
      "118239             NaN     AIOLWXY         1.0          0.0             5   \n",
      "118462             NaN     EO0BN2J         1.0          0.0             5   \n",
      "\n",
      "         promo_code  vendor_discount_amount  promo_code_discount_percentage  \\\n",
      "94367    akeed66766                     0.0                             0.0   \n",
      "94369    akeed66766                     0.0                             0.0   \n",
      "94370    akeed66766                     0.0                             0.0   \n",
      "94373    akeed66766                     0.0                             0.0   \n",
      "94379    akeed66766                     0.0                             0.0   \n",
      "...             ...                     ...                             ...   \n",
      "113323  Akeed361665                     0.0                             0.0   \n",
      "118235  akeed369829                     0.0                             0.0   \n",
      "118236  akeed369829                     0.0                             0.0   \n",
      "118239  akeed369829                     0.0                             0.0   \n",
      "118462  akeed373196                     0.0                             0.0   \n",
      "\n",
      "       is_favorite is_rated  ...  driver_accepted_time  ready_for_pickup_time  \\\n",
      "94367           No       No  ...                   NaN                    NaN   \n",
      "94369           No       No  ...                   NaN                    NaN   \n",
      "94370           No       No  ...                   NaN                    NaN   \n",
      "94373           No       No  ...                   NaN                    NaN   \n",
      "94379           No       No  ...                   NaN                    NaN   \n",
      "...            ...      ...  ...                   ...                    ...   \n",
      "113323          No       No  ...                   NaN                    NaN   \n",
      "118235          No       No  ...                   NaN    2020-02-08 21:11:24   \n",
      "118236          No       No  ...                   NaN    2020-02-08 21:11:53   \n",
      "118239          No       No  ...                   NaN    2020-02-08 21:12:30   \n",
      "118462          No       No  ...                   NaN                    NaN   \n",
      "\n",
      "        picked_up_time  delivered_time delivery_date vendor_id  \\\n",
      "94367              NaN             NaN           NaN       401   \n",
      "94369              NaN             NaN           NaN       401   \n",
      "94370              NaN             NaN           NaN       401   \n",
      "94373              NaN             NaN           NaN       401   \n",
      "94379              NaN             NaN           NaN       401   \n",
      "...                ...             ...           ...       ...   \n",
      "113323             NaN             NaN           NaN       145   \n",
      "118235             NaN             NaN           NaN       846   \n",
      "118236             NaN             NaN           NaN       846   \n",
      "118239             NaN             NaN           NaN       846   \n",
      "118462             NaN             NaN           NaN       676   \n",
      "\n",
      "                 created_at location_number location_type CID_LOC_NUM_VENDOR  \n",
      "94367   2020-01-01 22:30:57               8          Home  H0KPCSI X 8 X 401  \n",
      "94369   2020-01-01 22:31:09               8          Home  H0KPCSI X 8 X 401  \n",
      "94370   2020-01-01 22:32:03               8          Home  H0KPCSI X 8 X 401  \n",
      "94373   2020-01-01 22:32:26               8          Home  H0KPCSI X 8 X 401  \n",
      "94379   2020-01-01 22:35:31               8          Home  H0KPCSI X 8 X 401  \n",
      "...                     ...             ...           ...                ...  \n",
      "113323  2020-02-02 23:35:19               0           NaN  OB9AH6K X 0 X 145  \n",
      "118235  2020-02-08 21:08:17               0          Home  AIOLWXY X 0 X 846  \n",
      "118236  2020-02-08 21:08:23               0          Home  AIOLWXY X 0 X 846  \n",
      "118239  2020-02-08 21:08:32               0          Home  AIOLWXY X 0 X 846  \n",
      "118462  2020-02-08 22:59:39               1          Home  EO0BN2J X 1 X 676  \n",
      "\n",
      "[70 rows x 26 columns]\n"
     ]
    }
   ],
   "source": [
    "akeed_order_id_missing = order_df[order_df['akeed_order_id'].isnull()]\n",
    "print(akeed_order_id_missing)"
   ]
  },
  {
   "cell_type": "markdown",
   "id": "efa0ed1e-8bbd-4e1e-9362-6c9df4040fe7",
   "metadata": {},
   "source": [
    "The ID related to orders is a sequence of integers, so you can sort this column and fill the empty cells with the value after the largest ID number, but after examining these rows, it seems that a number of these rows are related to the same order, meaning that the data in all columns is common, only the registration time is 1 minute different, which could be due to an error when submitting the order,and with this way of filling , the wrong information is actually entered into the data. So, first I sorted this column and kept only one row from the duplicate rows and manually deleted the rest, and then filled the empty ID cells with the numbers after the last ID."
   ]
  },
  {
   "cell_type": "code",
   "execution_count": 110,
   "id": "16d1fd5d-5d86-435c-b6d7-f605a48f60ba",
   "metadata": {},
   "outputs": [
    {
     "name": "stderr",
     "output_type": "stream",
     "text": [
      "C:\\Users\\karimi\\AppData\\Local\\Temp\\ipykernel_12108\\2256334815.py:1: DtypeWarning: Columns (15,16,17,18,19,20) have mixed types. Specify dtype option on import or set low_memory=False.\n",
      "  order_df1 = pd.read_csv(\"orders1.csv\")\n"
     ]
    }
   ],
   "source": [
    "order_df1 = pd.read_csv(\"orders1.csv\")"
   ]
  },
  {
   "cell_type": "code",
   "execution_count": 112,
   "id": "0ba80c17-bdea-4c87-8a7e-550c0012de25",
   "metadata": {},
   "outputs": [
    {
     "name": "stdout",
     "output_type": "stream",
     "text": [
      "akeed_order_id                        21\n",
      "customer_id                            0\n",
      "item_count                          6925\n",
      "grand_total                            0\n",
      "payment_mode                           0\n",
      "promo_code                        130972\n",
      "vendor_discount_amount                 0\n",
      "promo_code_discount_percentage     69423\n",
      "is_favorite                        35195\n",
      "is_rated                               0\n",
      "vendor_rating                      90034\n",
      "driver_rating                          0\n",
      "deliverydistance                       0\n",
      "preparationtime                    55560\n",
      "delivery_time                     130134\n",
      "order_accepted_time                48308\n",
      "driver_accepted_time               88796\n",
      "ready_for_pickup_time              51009\n",
      "picked_up_time                     51389\n",
      "delivered_time                     49513\n",
      "delivery_date                      99710\n",
      "vendor_id                              0\n",
      "created_at                             0\n",
      "LOCATION_NUMBER                        0\n",
      "LOCATION_TYPE                      48873\n",
      "CID X LOC_NUM X VENDOR                 0\n",
      "dtype: int64\n"
     ]
    }
   ],
   "source": [
    "print(order_df1.isnull().sum())"
   ]
  },
  {
   "cell_type": "code",
   "execution_count": 114,
   "id": "9e6ddb7c-12c7-4385-91b9-443a2d15582e",
   "metadata": {},
   "outputs": [],
   "source": [
    "order_df1['akeed_order_id'] = pd.to_numeric(order_df1['akeed_order_id'], errors='coerce')\n",
    "max_num = order_df1['akeed_order_id'].max()\n",
    "#filling the missing values in 'akeed_order_id' \n",
    "new_id = max_num + 1\n",
    "def fill_miss_id(row):\n",
    "    global new_id\n",
    "    if pd.isnull(row['akeed_order_id']):\n",
    "        new_code = new_id\n",
    "        new_id += 1\n",
    "        return new_code\n",
    "    return row['akeed_order_id']\n",
    "\n",
    "order_df1['akeed_order_id'] = order_df1.apply(fill_miss_id, axis=1)\n",
    "\n",
    "order_df1['akeed_order_id'] = order_df1['akeed_order_id'].astype(int)\n"
   ]
  },
  {
   "cell_type": "code",
   "execution_count": 116,
   "id": "31090f2b-fcf2-4286-987a-f052d6bb9368",
   "metadata": {},
   "outputs": [
    {
     "name": "stdout",
     "output_type": "stream",
     "text": [
      "akeed_order_id                         0\n",
      "customer_id                            0\n",
      "item_count                          6925\n",
      "grand_total                            0\n",
      "payment_mode                           0\n",
      "promo_code                        130972\n",
      "vendor_discount_amount                 0\n",
      "promo_code_discount_percentage     69423\n",
      "is_favorite                        35195\n",
      "is_rated                               0\n",
      "vendor_rating                      90034\n",
      "driver_rating                          0\n",
      "deliverydistance                       0\n",
      "preparationtime                    55560\n",
      "delivery_time                     130134\n",
      "order_accepted_time                48308\n",
      "driver_accepted_time               88796\n",
      "ready_for_pickup_time              51009\n",
      "picked_up_time                     51389\n",
      "delivered_time                     49513\n",
      "delivery_date                      99710\n",
      "vendor_id                              0\n",
      "created_at                             0\n",
      "LOCATION_NUMBER                        0\n",
      "LOCATION_TYPE                      48873\n",
      "CID X LOC_NUM X VENDOR                 0\n",
      "dtype: int64\n"
     ]
    }
   ],
   "source": [
    "print(order_df1.isnull().sum())"
   ]
  },
  {
   "cell_type": "code",
   "execution_count": 118,
   "id": "8a77a436-ee02-4f94-b178-c36fec7c3dfc",
   "metadata": {
    "scrolled": true
   },
   "outputs": [
    {
     "name": "stdout",
     "output_type": "stream",
     "text": [
      "       akeed_order_id customer_id  item_count  grand_total  payment_mode  \\\n",
      "49044          230637     2LWS99M         NaN          7.3             2   \n",
      "49045          230637     2LWS99M         NaN          7.3             2   \n",
      "49046          230638     NLKK7E0         NaN          6.0             1   \n",
      "49047          230638     NLKK7E0         NaN          6.0             1   \n",
      "49068          230681     Z6DDRUJ         1.0         13.3             2   \n",
      "49069          230681     Z6DDRUJ         NaN         13.3             2   \n",
      "49070          230682     IZYQ28O         2.0          8.2             1   \n",
      "49071          230682     IZYQ28O         NaN          8.2             1   \n",
      "49072          230684     W35F18A         2.0          9.2             2   \n",
      "49073          230684     W35F18A         NaN          9.2             2   \n",
      "49074          230686     R90B4BY         1.0          5.2             1   \n",
      "49075          230686     R90B4BY         NaN          5.2             1   \n",
      "59186          251012     ES3UOC6         1.0          7.3             2   \n",
      "59187          251012     ES3UOC6         1.0          7.3             2   \n",
      "59436          251526     X53PNEA         1.0          4.3             4   \n",
      "59437          251526     X53PNEA         1.0          4.3             4   \n",
      "59636          251897     MFFODDV         1.0          9.2             2   \n",
      "59637          251897     MFFODDV         1.0          9.2             2   \n",
      "60096          252730     6T1T7MS         2.0          7.6             1   \n",
      "60097          252730     6T1T7MS         2.0          7.6             1   \n",
      "60315          253161     AVMHK3Q         1.0         13.3             1   \n",
      "60316          253161     AVMHK3Q         1.0         13.3             1   \n",
      "60346          253208     XI97H1K         1.0          6.3             3   \n",
      "60347          253208     XI97H1K         1.0          6.3             3   \n",
      "\n",
      "      promo_code  vendor_discount_amount  promo_code_discount_percentage  \\\n",
      "49044        NaN                     0.0                             NaN   \n",
      "49045        NaN                     0.0                             NaN   \n",
      "49046        NaN                     0.0                             NaN   \n",
      "49047        NaN                     0.0                             NaN   \n",
      "49068        NaN                     0.0                             NaN   \n",
      "49069        NaN                     0.0                             NaN   \n",
      "49070        NaN                     0.0                             NaN   \n",
      "49071        NaN                     0.0                             NaN   \n",
      "49072        NaN                     0.0                             NaN   \n",
      "49073        NaN                     0.0                             NaN   \n",
      "49074        NaN                     0.0                             NaN   \n",
      "49075        NaN                     0.0                             NaN   \n",
      "59186        NaN                     0.0                             NaN   \n",
      "59187        NaN                     0.0                             NaN   \n",
      "59436        NaN                     0.0                             NaN   \n",
      "59437        NaN                     0.0                             NaN   \n",
      "59636        NaN                     0.0                             NaN   \n",
      "59637        NaN                     0.0                             NaN   \n",
      "60096        NaN                     0.0                             NaN   \n",
      "60097        NaN                     0.0                             NaN   \n",
      "60315        NaN                     0.0                             NaN   \n",
      "60316        NaN                     0.0                             NaN   \n",
      "60346        NaN                     0.0                             NaN   \n",
      "60347        NaN                     0.0                             NaN   \n",
      "\n",
      "      is_favorite is_rated  ...  driver_accepted_time  ready_for_pickup_time  \\\n",
      "49044          No       No  ...                   NaN       10/21/2019 12:00   \n",
      "49045         NaN       No  ...                   NaN                    NaN   \n",
      "49046          No       No  ...                   NaN       10/21/2019 12:01   \n",
      "49047         NaN       No  ...                   NaN                    NaN   \n",
      "49068          No       No  ...                   NaN       10/21/2019 12:02   \n",
      "49069         NaN       No  ...                   NaN                    NaN   \n",
      "49070          No       No  ...                   NaN       10/21/2019 12:11   \n",
      "49071         NaN       No  ...                   NaN                    NaN   \n",
      "49072          No       No  ...                   NaN       10/21/2019 12:26   \n",
      "49073         NaN       No  ...                   NaN                    NaN   \n",
      "49074          No       No  ...                   NaN       10/21/2019 12:27   \n",
      "49075         NaN       No  ...                   NaN                    NaN   \n",
      "59186          No       No  ...                   NaN         11/6/2019 9:34   \n",
      "59187          No       No  ...                   NaN                    NaN   \n",
      "59436          No       No  ...                   NaN        11/6/2019 14:51   \n",
      "59437          No       No  ...                   NaN                    NaN   \n",
      "59636          No       No  ...                   NaN        11/6/2019 17:44   \n",
      "59637          No       No  ...                   NaN                    NaN   \n",
      "60096          No       No  ...                   NaN        11/7/2019 12:20   \n",
      "60097          No       No  ...                   NaN          1/5/2020 1:37   \n",
      "60315          No       No  ...                   NaN        11/7/2019 17:47   \n",
      "60316          No       No  ...                   NaN                    NaN   \n",
      "60346          No       No  ...                   NaN        11/7/2019 17:59   \n",
      "60347          No       No  ...                   NaN                    NaN   \n",
      "\n",
      "         picked_up_time    delivered_time delivery_date vendor_id  \\\n",
      "49044  10/21/2019 16:01  10/21/2019 16:01           NaN         4   \n",
      "49045               NaN               NaN           NaN         4   \n",
      "49046  10/21/2019 16:40  10/21/2019 17:02           NaN       105   \n",
      "49047               NaN               NaN           NaN       105   \n",
      "49068  10/21/2019 16:03  10/21/2019 16:16           NaN       134   \n",
      "49069               NaN               NaN           NaN       134   \n",
      "49070  10/21/2019 16:31  10/21/2019 16:55           NaN       459   \n",
      "49071               NaN               NaN           NaN       459   \n",
      "49072  10/21/2019 16:35  10/21/2019 16:46           NaN       104   \n",
      "49073               NaN               NaN           NaN       104   \n",
      "49074  10/21/2019 16:46  10/21/2019 17:19           NaN       419   \n",
      "49075               NaN               NaN           NaN       419   \n",
      "59186   11/6/2019 13:48   11/6/2019 14:15           NaN       159   \n",
      "59187               NaN               NaN           NaN       159   \n",
      "59436   11/6/2019 19:06   11/6/2019 19:30           NaN        86   \n",
      "59437               NaN               NaN           NaN        86   \n",
      "59636   11/6/2019 21:47   11/6/2019 21:52           NaN       115   \n",
      "59637               NaN               NaN           NaN       115   \n",
      "60096   11/7/2019 16:33   11/7/2019 17:11           NaN        44   \n",
      "60097               NaN               NaN           NaN        44   \n",
      "60315   11/7/2019 22:06   11/7/2019 22:20           NaN        67   \n",
      "60316               NaN               NaN           NaN        67   \n",
      "60346   11/7/2019 22:17   11/7/2019 22:26           NaN       157   \n",
      "60347               NaN               NaN           NaN       157   \n",
      "\n",
      "             created_at LOCATION_NUMBER LOCATION_TYPE CID X LOC_NUM X VENDOR  \n",
      "49044  10/21/2019 11:57               1           NaN        2LWS99M X 1 X 4  \n",
      "49045  10/21/2019 16:37               0         Other        2LWS99M X 0 X 4  \n",
      "49046  10/21/2019 11:57               0           NaN      NLKK7E0 X 0 X 105  \n",
      "49047  10/21/2019 16:37               1         Other      NLKK7E0 X 1 X 105  \n",
      "49068  10/21/2019 15:49               2          Work      Z6DDRUJ X 2 X 134  \n",
      "49069  10/21/2019 17:19               0         Other      Z6DDRUJ X 0 X 134  \n",
      "49070  10/21/2019 15:49               1          Home      IZYQ28O X 1 X 459  \n",
      "49071  10/21/2019 17:19               0         Other      IZYQ28O X 0 X 459  \n",
      "49072  10/21/2019 15:50               1          Home      W35F18A X 1 X 104  \n",
      "49073  10/21/2019 17:20               2          Home      W35F18A X 2 X 104  \n",
      "49074  10/21/2019 15:55               0          Work      R90B4BY X 0 X 419  \n",
      "49075  10/21/2019 17:25               1          Work      R90B4BY X 1 X 419  \n",
      "59186    11/6/2019 9:19               2          Home      ES3UOC6 X 2 X 159  \n",
      "59187   11/6/2019 13:19               3          Home      ES3UOC6 X 3 X 159  \n",
      "59436   11/6/2019 14:51               1          Home       X53PNEA X 1 X 86  \n",
      "59437   11/6/2019 18:51               2          Home       X53PNEA X 2 X 86  \n",
      "59636   11/6/2019 17:37               1           NaN      MFFODDV X 1 X 115  \n",
      "59637   11/6/2019 21:37               3           NaN      MFFODDV X 3 X 115  \n",
      "60096   11/7/2019 11:59               1          Home       6T1T7MS X 1 X 44  \n",
      "60097   11/7/2019 15:59               2          Home       6T1T7MS X 2 X 44  \n",
      "60315   11/7/2019 17:37               2          Home       AVMHK3Q X 2 X 67  \n",
      "60316   11/7/2019 21:37               3          Home       AVMHK3Q X 3 X 67  \n",
      "60346   11/7/2019 17:56               1         Other      XI97H1K X 1 X 157  \n",
      "60347   11/7/2019 21:56               2         Other      XI97H1K X 2 X 157  \n",
      "\n",
      "[24 rows x 26 columns]\n",
      "[230637 230638 230681 230682 230684 230686 251012 251526 251897 252730\n",
      " 253161 253208]\n"
     ]
    }
   ],
   "source": [
    "# finding the duplicate values in column 'akeed _order_id'\n",
    "duplicate_values = order_df1[order_df1.duplicated(subset=['akeed_order_id'], keep=False)]\n",
    "\n",
    "print(duplicate_values)\n",
    "\n",
    "#showing the unique values that are repeated\n",
    "duplicate_unique_values = order_df1['akeed_order_id'][order_df1['akeed_order_id'].duplicated()].unique()\n",
    "print(duplicate_unique_values)\n"
   ]
  },
  {
   "cell_type": "code",
   "execution_count": 124,
   "id": "a57d24c5-df55-4d25-9554-08a41e9f2287",
   "metadata": {},
   "outputs": [],
   "source": [
    "# at first we define the function to count the fill cells in row \n",
    "def count_fill_cells(row):\n",
    "    return row.count()\n",
    "\n",
    "# creating new column in table for the number of fill cells in each row\n",
    "order_df1['count_fill_cells'] = order_df1.apply(count_fill_cells, axis=1)\n",
    "\n",
    "# remiving the repeated akeed_order_id and keeping the one which has mor fill cells\n",
    "order_df1 = order_df1.sort_values('count_fill_cells', ascending=False)  # sorting based on the new column which shows the number of fill cells in each row\n",
    "order_df1 = order_df1.drop_duplicates(subset=['akeed_order_id'], keep='first')\n",
    "\n",
    "# removing the new column\n",
    "order_df1.drop(columns=['count_fill_cells'], inplace=True)\n",
    "\n"
   ]
  },
  {
   "cell_type": "code",
   "execution_count": 126,
   "id": "8405fae8-ff26-435a-a7a3-aef96c7532eb",
   "metadata": {},
   "outputs": [
    {
     "name": "stdout",
     "output_type": "stream",
     "text": [
      "0\n"
     ]
    }
   ],
   "source": [
    "print(order_df1['akeed_order_id'].duplicated().sum())"
   ]
  },
  {
   "cell_type": "code",
   "execution_count": 128,
   "id": "3faf6bf5-1a94-4f2f-9b81-9183237fa083",
   "metadata": {},
   "outputs": [
    {
     "name": "stdout",
     "output_type": "stream",
     "text": [
      "akeed_order_id                     0.000000\n",
      "customer_id                        0.000000\n",
      "item_count                         5.116014\n",
      "grand_total                        0.000000\n",
      "payment_mode                       0.000000\n",
      "promo_code                        96.833824\n",
      "vendor_discount_amount             0.000000\n",
      "promo_code_discount_percentage    51.323553\n",
      "is_favorite                       26.019284\n",
      "is_rated                           0.000000\n",
      "vendor_rating                     66.563641\n",
      "driver_rating                      0.000000\n",
      "deliverydistance                   0.000000\n",
      "preparationtime                   41.077476\n",
      "delivery_time                     96.214194\n",
      "order_accepted_time               35.711539\n",
      "driver_accepted_time              65.648245\n",
      "ready_for_pickup_time             37.708700\n",
      "picked_up_time                    37.988938\n",
      "delivered_time                    36.601795\n",
      "delivery_date                     73.718224\n",
      "vendor_id                          0.000000\n",
      "created_at                         0.000000\n",
      "LOCATION_NUMBER                    0.000000\n",
      "LOCATION_TYPE                     36.136703\n",
      "CID X LOC_NUM X VENDOR             0.000000\n",
      "dtype: float64\n"
     ]
    }
   ],
   "source": [
    "miss_percent=order_df1.isnull().mean()*100\n",
    "print(miss_percent)"
   ]
  },
  {
   "cell_type": "code",
   "execution_count": 130,
   "id": "dd04ccc0-73ca-4029-af91-08b2c415fb2c",
   "metadata": {},
   "outputs": [],
   "source": [
    "r = 50\n",
    "order_df1 = order_df1.loc[:, order_df1.isnull().mean() * 100 < r]"
   ]
  },
  {
   "cell_type": "code",
   "execution_count": 132,
   "id": "d9774050-6a28-4033-8d66-e91985c41411",
   "metadata": {},
   "outputs": [],
   "source": [
    "order_df1 = order_df1.dropna(subset=['akeed_order_id'])"
   ]
  },
  {
   "cell_type": "code",
   "execution_count": 134,
   "id": "46def4cb-7ffd-4f17-bbbd-e3442145cfc7",
   "metadata": {},
   "outputs": [],
   "source": [
    "# numerical\n",
    "numerical_columns = order_df1.select_dtypes(include=['float64', 'int64']).columns\n",
    "order_df1[numerical_columns] = order_df1[numerical_columns].fillna(order_df1[numerical_columns].mean())\n"
   ]
  },
  {
   "cell_type": "code",
   "execution_count": 136,
   "id": "258109af-22e5-4ce0-ae4f-e98c479139f0",
   "metadata": {},
   "outputs": [],
   "source": [
    "#categorical\n",
    "categorical_columns = order_df1.select_dtypes(include=['object']).columns\n",
    "for i in categorical_columns:\n",
    "    order_df1[i] = order_df1[i].fillna(order_df1[i].mode()[0])"
   ]
  },
  {
   "cell_type": "code",
   "execution_count": 138,
   "id": "a4df87b6-d905-4f29-85ff-b68d57f03c10",
   "metadata": {},
   "outputs": [
    {
     "name": "stdout",
     "output_type": "stream",
     "text": [
      "akeed_order_id            0.0\n",
      "customer_id               0.0\n",
      "item_count                0.0\n",
      "grand_total               0.0\n",
      "payment_mode              0.0\n",
      "vendor_discount_amount    0.0\n",
      "is_favorite               0.0\n",
      "is_rated                  0.0\n",
      "driver_rating             0.0\n",
      "deliverydistance          0.0\n",
      "preparationtime           0.0\n",
      "order_accepted_time       0.0\n",
      "ready_for_pickup_time     0.0\n",
      "picked_up_time            0.0\n",
      "delivered_time            0.0\n",
      "vendor_id                 0.0\n",
      "created_at                0.0\n",
      "LOCATION_NUMBER           0.0\n",
      "LOCATION_TYPE             0.0\n",
      "CID X LOC_NUM X VENDOR    0.0\n",
      "dtype: float64\n"
     ]
    }
   ],
   "source": [
    "miss_percent=order_df1.isnull().mean()*100\n",
    "print(miss_percent)"
   ]
  },
  {
   "cell_type": "markdown",
   "id": "80aeff8c-4f4b-4ea7-b6df-00c9000b4630",
   "metadata": {},
   "source": [
    "The column CID X LOC_NUM X VENDOR is a derived column because it combines three separate columns (customer_id, LOCATION_NUMBER, and vendor_id) into one. Since each of these attributes (customer_id, LOCATION_NUMBER, and vendor_id) is already stored in the table, storing this combined column violates the 3NF principle, which aims to avoid redundancy and ensure atomicity (indivisibility of data attributes)."
   ]
  },
  {
   "cell_type": "code",
   "execution_count": 143,
   "id": "6ec88c5b-0479-4893-afa9-b818f00a7c1b",
   "metadata": {},
   "outputs": [
    {
     "ename": "KeyError",
     "evalue": "\"['CID X LOC_NUM X VENDOR'] not found in axis\"",
     "output_type": "error",
     "traceback": [
      "\u001b[1;31m---------------------------------------------------------------------------\u001b[0m",
      "\u001b[1;31mKeyError\u001b[0m                                  Traceback (most recent call last)",
      "Cell \u001b[1;32mIn[143], line 1\u001b[0m\n\u001b[1;32m----> 1\u001b[0m order_df1\u001b[38;5;241m=\u001b[39m order_df1\u001b[38;5;241m.\u001b[39mdrop([\u001b[38;5;124m'\u001b[39m\u001b[38;5;124mCID X LOC_NUM X VENDOR\u001b[39m\u001b[38;5;124m'\u001b[39m],axis\u001b[38;5;241m=\u001b[39m\u001b[38;5;241m1\u001b[39m)\n",
      "File \u001b[1;32m~\\anaconda3\\Lib\\site-packages\\pandas\\core\\frame.py:5581\u001b[0m, in \u001b[0;36mDataFrame.drop\u001b[1;34m(self, labels, axis, index, columns, level, inplace, errors)\u001b[0m\n\u001b[0;32m   5433\u001b[0m \u001b[38;5;28;01mdef\u001b[39;00m \u001b[38;5;21mdrop\u001b[39m(\n\u001b[0;32m   5434\u001b[0m     \u001b[38;5;28mself\u001b[39m,\n\u001b[0;32m   5435\u001b[0m     labels: IndexLabel \u001b[38;5;241m|\u001b[39m \u001b[38;5;28;01mNone\u001b[39;00m \u001b[38;5;241m=\u001b[39m \u001b[38;5;28;01mNone\u001b[39;00m,\n\u001b[1;32m   (...)\u001b[0m\n\u001b[0;32m   5442\u001b[0m     errors: IgnoreRaise \u001b[38;5;241m=\u001b[39m \u001b[38;5;124m\"\u001b[39m\u001b[38;5;124mraise\u001b[39m\u001b[38;5;124m\"\u001b[39m,\n\u001b[0;32m   5443\u001b[0m ) \u001b[38;5;241m-\u001b[39m\u001b[38;5;241m>\u001b[39m DataFrame \u001b[38;5;241m|\u001b[39m \u001b[38;5;28;01mNone\u001b[39;00m:\n\u001b[0;32m   5444\u001b[0m \u001b[38;5;250m    \u001b[39m\u001b[38;5;124;03m\"\"\"\u001b[39;00m\n\u001b[0;32m   5445\u001b[0m \u001b[38;5;124;03m    Drop specified labels from rows or columns.\u001b[39;00m\n\u001b[0;32m   5446\u001b[0m \n\u001b[1;32m   (...)\u001b[0m\n\u001b[0;32m   5579\u001b[0m \u001b[38;5;124;03m            weight  1.0     0.8\u001b[39;00m\n\u001b[0;32m   5580\u001b[0m \u001b[38;5;124;03m    \"\"\"\u001b[39;00m\n\u001b[1;32m-> 5581\u001b[0m     \u001b[38;5;28;01mreturn\u001b[39;00m \u001b[38;5;28msuper\u001b[39m()\u001b[38;5;241m.\u001b[39mdrop(\n\u001b[0;32m   5582\u001b[0m         labels\u001b[38;5;241m=\u001b[39mlabels,\n\u001b[0;32m   5583\u001b[0m         axis\u001b[38;5;241m=\u001b[39maxis,\n\u001b[0;32m   5584\u001b[0m         index\u001b[38;5;241m=\u001b[39mindex,\n\u001b[0;32m   5585\u001b[0m         columns\u001b[38;5;241m=\u001b[39mcolumns,\n\u001b[0;32m   5586\u001b[0m         level\u001b[38;5;241m=\u001b[39mlevel,\n\u001b[0;32m   5587\u001b[0m         inplace\u001b[38;5;241m=\u001b[39minplace,\n\u001b[0;32m   5588\u001b[0m         errors\u001b[38;5;241m=\u001b[39merrors,\n\u001b[0;32m   5589\u001b[0m     )\n",
      "File \u001b[1;32m~\\anaconda3\\Lib\\site-packages\\pandas\\core\\generic.py:4788\u001b[0m, in \u001b[0;36mNDFrame.drop\u001b[1;34m(self, labels, axis, index, columns, level, inplace, errors)\u001b[0m\n\u001b[0;32m   4786\u001b[0m \u001b[38;5;28;01mfor\u001b[39;00m axis, labels \u001b[38;5;129;01min\u001b[39;00m axes\u001b[38;5;241m.\u001b[39mitems():\n\u001b[0;32m   4787\u001b[0m     \u001b[38;5;28;01mif\u001b[39;00m labels \u001b[38;5;129;01mis\u001b[39;00m \u001b[38;5;129;01mnot\u001b[39;00m \u001b[38;5;28;01mNone\u001b[39;00m:\n\u001b[1;32m-> 4788\u001b[0m         obj \u001b[38;5;241m=\u001b[39m obj\u001b[38;5;241m.\u001b[39m_drop_axis(labels, axis, level\u001b[38;5;241m=\u001b[39mlevel, errors\u001b[38;5;241m=\u001b[39merrors)\n\u001b[0;32m   4790\u001b[0m \u001b[38;5;28;01mif\u001b[39;00m inplace:\n\u001b[0;32m   4791\u001b[0m     \u001b[38;5;28mself\u001b[39m\u001b[38;5;241m.\u001b[39m_update_inplace(obj)\n",
      "File \u001b[1;32m~\\anaconda3\\Lib\\site-packages\\pandas\\core\\generic.py:4830\u001b[0m, in \u001b[0;36mNDFrame._drop_axis\u001b[1;34m(self, labels, axis, level, errors, only_slice)\u001b[0m\n\u001b[0;32m   4828\u001b[0m         new_axis \u001b[38;5;241m=\u001b[39m axis\u001b[38;5;241m.\u001b[39mdrop(labels, level\u001b[38;5;241m=\u001b[39mlevel, errors\u001b[38;5;241m=\u001b[39merrors)\n\u001b[0;32m   4829\u001b[0m     \u001b[38;5;28;01melse\u001b[39;00m:\n\u001b[1;32m-> 4830\u001b[0m         new_axis \u001b[38;5;241m=\u001b[39m axis\u001b[38;5;241m.\u001b[39mdrop(labels, errors\u001b[38;5;241m=\u001b[39merrors)\n\u001b[0;32m   4831\u001b[0m     indexer \u001b[38;5;241m=\u001b[39m axis\u001b[38;5;241m.\u001b[39mget_indexer(new_axis)\n\u001b[0;32m   4833\u001b[0m \u001b[38;5;66;03m# Case for non-unique axis\u001b[39;00m\n\u001b[0;32m   4834\u001b[0m \u001b[38;5;28;01melse\u001b[39;00m:\n",
      "File \u001b[1;32m~\\anaconda3\\Lib\\site-packages\\pandas\\core\\indexes\\base.py:7070\u001b[0m, in \u001b[0;36mIndex.drop\u001b[1;34m(self, labels, errors)\u001b[0m\n\u001b[0;32m   7068\u001b[0m \u001b[38;5;28;01mif\u001b[39;00m mask\u001b[38;5;241m.\u001b[39many():\n\u001b[0;32m   7069\u001b[0m     \u001b[38;5;28;01mif\u001b[39;00m errors \u001b[38;5;241m!=\u001b[39m \u001b[38;5;124m\"\u001b[39m\u001b[38;5;124mignore\u001b[39m\u001b[38;5;124m\"\u001b[39m:\n\u001b[1;32m-> 7070\u001b[0m         \u001b[38;5;28;01mraise\u001b[39;00m \u001b[38;5;167;01mKeyError\u001b[39;00m(\u001b[38;5;124mf\u001b[39m\u001b[38;5;124m\"\u001b[39m\u001b[38;5;132;01m{\u001b[39;00mlabels[mask]\u001b[38;5;241m.\u001b[39mtolist()\u001b[38;5;132;01m}\u001b[39;00m\u001b[38;5;124m not found in axis\u001b[39m\u001b[38;5;124m\"\u001b[39m)\n\u001b[0;32m   7071\u001b[0m     indexer \u001b[38;5;241m=\u001b[39m indexer[\u001b[38;5;241m~\u001b[39mmask]\n\u001b[0;32m   7072\u001b[0m \u001b[38;5;28;01mreturn\u001b[39;00m \u001b[38;5;28mself\u001b[39m\u001b[38;5;241m.\u001b[39mdelete(indexer)\n",
      "\u001b[1;31mKeyError\u001b[0m: \"['CID X LOC_NUM X VENDOR'] not found in axis\""
     ]
    }
   ],
   "source": [
    "order_df1= order_df1.drop(['CID X LOC_NUM X VENDOR'],axis=1)"
   ]
  },
  {
   "cell_type": "code",
   "execution_count": 145,
   "id": "e483ca8c-9d62-4a1c-b4f2-42e72e5690bd",
   "metadata": {},
   "outputs": [
    {
     "name": "stdout",
     "output_type": "stream",
     "text": [
      "<class 'pandas.core.frame.DataFrame'>\n",
      "RangeIndex: 59503 entries, 0 to 59502\n",
      "Data columns (total 5 columns):\n",
      " #   Column           Non-Null Count  Dtype \n",
      "---  ------           --------------  ----- \n",
      " 0   customer_id      59503 non-null  object\n",
      " 1   location_number  59503 non-null  int64 \n",
      " 2   location_type    59503 non-null  object\n",
      " 3   latitude         59503 non-null  object\n",
      " 4   longitude        59503 non-null  object\n",
      "dtypes: int64(1), object(4)\n",
      "memory usage: 2.3+ MB\n",
      "None\n",
      "<class 'pandas.core.frame.DataFrame'>\n",
      "RangeIndex: 34674 entries, 0 to 34673\n",
      "Data columns (total 8 columns):\n",
      " #   Column             Non-Null Count  Dtype \n",
      "---  ------             --------------  ----- \n",
      " 0   akeed_customer_id  34674 non-null  object\n",
      " 1   gender             34674 non-null  object\n",
      " 2   dob                34674 non-null  object\n",
      " 3   status             34674 non-null  int64 \n",
      " 4   verified           34674 non-null  int64 \n",
      " 5   language           34674 non-null  object\n",
      " 6   created_at         34674 non-null  object\n",
      " 7   updated_at         34674 non-null  object\n",
      "dtypes: int64(2), object(6)\n",
      "memory usage: 2.1+ MB\n",
      "None\n",
      "<class 'pandas.core.frame.DataFrame'>\n",
      "RangeIndex: 100 entries, 0 to 99\n",
      "Data columns (total 31 columns):\n",
      " #   Column               Non-Null Count  Dtype  \n",
      "---  ------               --------------  -----  \n",
      " 0   id                   100 non-null    int64  \n",
      " 1   authentication_id    100 non-null    float64\n",
      " 2   latitude             100 non-null    float64\n",
      " 3   longitude            100 non-null    float64\n",
      " 4   vendor_category_en   100 non-null    object \n",
      " 5   vendor_category_id   100 non-null    float64\n",
      " 6   delivery_charge      100 non-null    float64\n",
      " 7   serving_distance     100 non-null    float64\n",
      " 8   is_open              100 non-null    float64\n",
      " 9   OpeningTime          100 non-null    object \n",
      " 10  OpeningTime2         100 non-null    object \n",
      " 11  prepration_time      100 non-null    int64  \n",
      " 12  commission           100 non-null    object \n",
      " 13  is_akeed_delivering  100 non-null    object \n",
      " 14  discount_percentage  100 non-null    float64\n",
      " 15  status               100 non-null    float64\n",
      " 16  verified             100 non-null    int64  \n",
      " 17  rank                 100 non-null    int64  \n",
      " 18  language             100 non-null    object \n",
      " 19  vendor_rating        100 non-null    float64\n",
      " 20  primary_tags         100 non-null    object \n",
      " 21  open_close_flags     100 non-null    float64\n",
      " 22  vendor_tag           100 non-null    object \n",
      " 23  vendor_tag_name      100 non-null    object \n",
      " 24  one_click_vendor     100 non-null    object \n",
      " 25  country_id           100 non-null    float64\n",
      " 26  city_id              100 non-null    float64\n",
      " 27  created_at           100 non-null    object \n",
      " 28  updated_at           100 non-null    object \n",
      " 29  device_type          100 non-null    int64  \n",
      " 30  display_orders       100 non-null    int64  \n",
      "dtypes: float64(13), int64(6), object(12)\n",
      "memory usage: 24.3+ KB\n",
      "None\n",
      "<class 'pandas.core.frame.DataFrame'>\n",
      "Index: 135242 entries, 105887 to 0\n",
      "Data columns (total 19 columns):\n",
      " #   Column                  Non-Null Count   Dtype  \n",
      "---  ------                  --------------   -----  \n",
      " 0   akeed_order_id          135242 non-null  int32  \n",
      " 1   customer_id             135242 non-null  object \n",
      " 2   item_count              135242 non-null  float64\n",
      " 3   grand_total             135242 non-null  float64\n",
      " 4   payment_mode            135242 non-null  int64  \n",
      " 5   vendor_discount_amount  135242 non-null  float64\n",
      " 6   is_favorite             135242 non-null  object \n",
      " 7   is_rated                135242 non-null  object \n",
      " 8   driver_rating           135242 non-null  int64  \n",
      " 9   deliverydistance        135242 non-null  float64\n",
      " 10  preparationtime         135242 non-null  float64\n",
      " 11  order_accepted_time     135242 non-null  object \n",
      " 12  ready_for_pickup_time   135242 non-null  object \n",
      " 13  picked_up_time          135242 non-null  object \n",
      " 14  delivered_time          135242 non-null  object \n",
      " 15  vendor_id               135242 non-null  int64  \n",
      " 16  created_at              135242 non-null  object \n",
      " 17  LOCATION_NUMBER         135242 non-null  int64  \n",
      " 18  LOCATION_TYPE           135242 non-null  object \n",
      "dtypes: float64(5), int32(1), int64(4), object(9)\n",
      "memory usage: 20.1+ MB\n",
      "None\n"
     ]
    }
   ],
   "source": [
    "print(location_df.info())\n",
    "print(customers_df.info())\n",
    "print(vendor_df.info())\n",
    "print(order_df1.info())\n"
   ]
  },
  {
   "cell_type": "markdown",
   "id": "a6cff3e0-98f9-4b1a-a764-6dd12b4c0075",
   "metadata": {},
   "source": [
    "<div class=\"alert alert-block alert-info\" dir=\"ltr\" style=\"text-align: center;\"><strong><span style=\"font-family: courier new, courier; font-size: 18pt;\">Database </span></strong>\n",
    "<p dir=\"rtl\" style=\"text-align: center;\"><strong><span style=\"font-family: courier new, courier;\"><span style=\"font-size: 18pt;\">Diagram of relational database</span><br /></span></strong></p>\n",
    "</div>"
   ]
  },
  {
   "attachments": {
    "29301b02-9c91-4435-bf32-2205ae59bdd7.png": {
     "image/png": "[encoded data removed]"
    }
   },
   "cell_type": "markdown",
   "id": "2958cce9-3e49-46f3-942e-c778784240e6",
   "metadata": {},
   "source": [
    "after finishing the data cleaning phaze, we should start to designing relational database :\n",
    "\n",
    "![5000 Diagram7.drawio.png](attachment:29301b02-9c91-4435-bf32-2205ae59bdd7.png)"
   ]
  },
  {
   "cell_type": "markdown",
   "id": "402b48d2-ae5a-4ca2-812e-cd30a33c5278",
   "metadata": {},
   "source": [
    "<div class=\"alert alert-block alert-info\" dir=\"ltr\" style=\"text-align: center;\"><strong><span style=\"font-family: courier new, courier; font-size: 18pt;\">Database </span></strong>\n",
    "<p dir=\"rtl\" style=\"text-align: center;\"><strong><span style=\"font-family: courier new, courier;\"><span style=\"font-size: 18pt;\">Creating relational database</span><br /></span></strong></p>\n",
    "</div>"
   ]
  },
  {
   "cell_type": "code",
   "execution_count": 150,
   "id": "14827b98-a4d3-4ac8-a27b-e89f5314f323",
   "metadata": {},
   "outputs": [],
   "source": [
    "import sqlite3"
   ]
  },
  {
   "cell_type": "code",
   "execution_count": 152,
   "id": "117978e8-dff1-4d21-b743-5c61faf1560c",
   "metadata": {},
   "outputs": [
    {
     "name": "stdout",
     "output_type": "stream",
     "text": [
      "table 'customers' created successfully\n",
      "table 'location' created successfully\n",
      "table 'orders' created successfully\n",
      "table 'vendor' created successfully\n"
     ]
    }
   ],
   "source": [
    "connection = sqlite3.connect(\"ِِDeliveryDataBase_new.db\")\n",
    "cursor= connection.cursor()\n",
    "cursor .execute(\"\"\"CREATE TABLE IF NOT EXISTS customers(\n",
    "    akeed_customer_id TEXT NOT NULL PRIMARY KEY,\n",
    "    gender TEXT,\n",
    "    dob INTEGER,\n",
    "    status INTEGER,\n",
    "    verified INTEGER,\n",
    "    language TEXT,\n",
    "    created_at TEXT,\n",
    "    updated_at TEXT);\n",
    "    \"\"\")\n",
    "cursor .execute(\"\"\"CREATE TABLE IF NOT EXISTS location(\n",
    "    customer_id TEXT NOT NULL,\n",
    "    location_number INTEGER NOT NULL,\n",
    "    location_type TEXT,\n",
    "    latitude REAL,\n",
    "    longitude REAL,\n",
    "    PRIMARY KEY (customer_id, location_number), \n",
    "    FOREIGN KEY (customer_id) REFERENCES customers (akeed_customer_id)\n",
    "    );\n",
    "    \"\"\")\n",
    "cursor .execute(\"\"\"CREATE TABLE IF NOT EXISTS vendor(\n",
    "    id INTEGER NOT NULL PRIMARY KEY,\n",
    "    authentication_id REAL,\n",
    "    latitude REAL,\n",
    "    longitude REAL,\n",
    "    vendor_category_en TEXT, \n",
    "    vendor_category_id REAL,\n",
    "    delivery_charge REAL,           \n",
    "    serving_distance REAL,         \n",
    "    is_open REAL,                   \n",
    "    OpeningTime TEXT,               \n",
    "    OpeningTime2 TEXT,             \n",
    "    prepration_time INTEGER,           \n",
    "    commission REAL,               \n",
    "    is_akeed_delivering TEXT,      \n",
    "    discount_percentage REAL,      \n",
    "    status REAL,                    \n",
    "    verified INTEGER,                \n",
    "    rank INTEGER,                       \n",
    "    language  TEXT,                 \n",
    "    vendor_rating REAL,            \n",
    "    primary_tags TEXT,            \n",
    "    open_close_flags REAL,        \n",
    "    vendor_tag TEXT,               \n",
    "    vendor_tag_name TEXT,            \n",
    "    one_click_vendor TEXT,        \n",
    "    country_id REAL,              \n",
    "    city_id REAL,                  \n",
    "    created_at TEXT,                \n",
    "    updated_at TEXT,              \n",
    "    device_type INTEGER,             \n",
    "    display_orders INTEGER      \n",
    "    );\n",
    "    \"\"\")\n",
    "cursor .execute(\"\"\"CREATE TABLE IF NOT EXISTS orders(\n",
    "     akeed_order_id INTEGER NOT NULL PRIMARY KEY,\n",
    "     customer_id TEXT NOT NULL,             \n",
    "     item_count INTEGER,              \n",
    "     grand_total REAL,              \n",
    "     payment_mode INTEGER,              \n",
    "     vendor_discount_amount REAL,   \n",
    "     is_favorite TEXT,             \n",
    "     is_rated TEXT,               \n",
    "     driver_rating INTEGER,           \n",
    "     deliverydistance REAL,       \n",
    "     preparationtime INTEGER,         \n",
    "     order_accepted_time TEXT,     \n",
    "     ready_for_pickup_time TEXT,     \n",
    "     picked_up_time TEXT,          \n",
    "     delivered_time TEXT,           \n",
    "     vendor_id INTEGER,                 \n",
    "     created_at TEXT,                 \n",
    "     location_number INTEGER NOT NULL,          \n",
    "     location_type TEXT,             \n",
    "     FOREIGN KEY (customer_id) REFERENCES customers (akeed_customer_id),\n",
    "     FOREIGN KEY (vendor_id) REFERENCES vendor (id),\n",
    "     FOREIGN KEY (customer_id, location_number) REFERENCES location (customer_id, location_number)\n",
    "     );\n",
    "    \"\"\")\n",
    "connection.commit()\n",
    "connection.close()\n",
    "print(\"table 'customers' created successfully\")\n",
    "print(\"table 'location' created successfully\")\n",
    "print(\"table 'orders' created successfully\")\n",
    "print(\"table 'vendor' created successfully\")"
   ]
  },
  {
   "cell_type": "markdown",
   "id": "b7c86f46-bca8-43a7-849e-5a89e4258445",
   "metadata": {},
   "source": [
    "<div class=\"alert alert-block alert-info\" dir=\"ltr\" style=\"text-align: center;\"><strong><span style=\"font-family: courier new, courier; font-size: 18pt;\">Database </span></strong>\n",
    "<p dir=\"rtl\" style=\"text-align: center;\"><strong><span style=\"font-family: courier new, courier;\"><span style=\"font-size: 18pt;\">Import data to database</span><br /></span></strong></p>\n",
    "</div>"
   ]
  },
  {
   "cell_type": "code",
   "execution_count": 155,
   "id": "e0b7b38c-7790-4def-8664-b29903c780ce",
   "metadata": {},
   "outputs": [],
   "source": [
    "connection = sqlite3.connect(\"DeliveryDataBase_new.db\")\n",
    "customers_df.to_sql(\"customers\", connection, if_exists=\"append\", index=False)\n",
    "location_df.to_sql(\"location\", connection, if_exists=\"append\", index=False)\n",
    "vendor_df.to_sql(\"vendor\", connection, if_exists=\"append\", index=False)\n",
    "order_df1.to_sql(\"orders\", connection, if_exists=\"replace\", index=False)\n",
    "connection.close()"
   ]
  },
  {
   "cell_type": "code",
   "execution_count": 156,
   "id": "76ad7290-5b57-416b-a796-c1a1dc5913c9",
   "metadata": {},
   "outputs": [],
   "source": [
    "from sqlalchemy import create_engine"
   ]
  },
  {
   "cell_type": "code",
   "execution_count": 159,
   "id": "b0b03c91-37a6-4ecd-ab9d-aac5f58a3e56",
   "metadata": {},
   "outputs": [
    {
     "name": "stdout",
     "output_type": "stream",
     "text": [
      "       akeed_customer_id gender   dob  status  verified language  \\\n",
      "0                TCHWPBT   Male  null       1         1       EN   \n",
      "1                ZGFSYCZ   Male  null       1         1       EN   \n",
      "2                S2ALZFL   Male  null       0         1       EN   \n",
      "3                952DBJQ   Male  null       1         1       EN   \n",
      "4                1IX6FXS   Male  null       1         1       EN   \n",
      "...                  ...    ...   ...     ...       ...      ...   \n",
      "138693           JAI79PE   Male  null       1         1     Male   \n",
      "138694           TR75VFL   Male  null       1         1     Male   \n",
      "138695           SQMJ08H   Male  null       1         1     Male   \n",
      "138696           9LW9CHN   Male  null       1         1     Male   \n",
      "138697           LBMRK7A   Male  null       1         1     Male   \n",
      "\n",
      "                 created_at           updated_at  \n",
      "0       2018-02-07 19:16:23  2018-02-07 19:16:23  \n",
      "1       2018-02-09 12:04:42  2018-02-09 12:04:41  \n",
      "2       2018-03-14 18:31:43  2018-03-14 18:31:42  \n",
      "3       2018-03-15 19:47:07  2018-03-15 19:47:07  \n",
      "4       2018-03-15 19:57:01  2018-03-15 19:57:01  \n",
      "...                     ...                  ...  \n",
      "138693  2020-03-03 13:01:13  2020-03-03 13:02:21  \n",
      "138694  2020-03-03 13:22:35  2020-03-03 13:22:41  \n",
      "138695  2020-03-03 13:24:27  2020-03-03 13:24:44  \n",
      "138696  2020-03-03 13:24:28  2020-03-03 13:28:00  \n",
      "138697  2020-03-03 13:31:52  2020-03-03 13:32:09  \n",
      "\n",
      "[138698 rows x 8 columns]\n"
     ]
    }
   ],
   "source": [
    "cnx = create_engine('sqlite:///DeliveryDataBase_new.db').connect()\n",
    "df = pd.read_sql_table('customers', cnx)\n",
    "print(df)"
   ]
  },
  {
   "cell_type": "code",
   "execution_count": 161,
   "id": "14710d77-9005-455f-ab06-8b2ae2396072",
   "metadata": {},
   "outputs": [
    {
     "name": "stdout",
     "output_type": "stream",
     "text": [
      "('TCHWPBT', 'Male', 5.4)\n",
      "('TCHWPBT', 'Male', 7.9)\n",
      "('ZGFSYCZ', 'Male', 3.0)\n",
      "('ZGFSYCZ', 'Male', 3.5)\n",
      "('ZGFSYCZ', 'Male', 5.2)\n",
      "('ZGFSYCZ', 'Male', 5.2)\n",
      "('ZGFSYCZ', 'Male', 5.7)\n",
      "('ZGFSYCZ', 'Male', 6.0)\n",
      "('ZGFSYCZ', 'Male', 6.3)\n",
      "('ZGFSYCZ', 'Male', 6.8)\n"
     ]
    }
   ],
   "source": [
    "connection = sqlite3.connect(\"DeliveryDataBase_new.db\")\n",
    "cursor = connection.cursor()\n",
    "\n",
    "cursor.execute(\"\"\"\n",
    "SELECT customers.akeed_customer_id, customers.gender, orders.grand_total\n",
    "FROM customers\n",
    "INNER JOIN orders ON customers.akeed_customer_id = orders.customer_id\n",
    "LIMIT 10;\n",
    "\"\"\")\n",
    "rows = cursor.fetchall()\n",
    "for row in rows:\n",
    "    print(row)\n",
    "\n",
    "connection.close()"
   ]
  },
  {
   "cell_type": "markdown",
   "id": "1f1f7c96-3359-4fa5-bb62-62e1c315befc",
   "metadata": {},
   "source": [
    "<div class=\"alert alert-block alert-info\" dir=\"ltr\" style=\"text-align: center;\"><strong><span style=\"font-family: courier new, courier; font-size: 18pt;\">GUI </span></strong>\n",
    "<p dir=\"rtl\" style=\"text-align: center;\"><strong><span style=\"font-family: courier new, courier;\"><span style=\"font-size: 18pt;\">Using Gradio to creat UI</span><br /></span></strong></p>\n",
    "</div>"
   ]
  },
  {
   "cell_type": "code",
   "execution_count": 164,
   "id": "7e9a87e8-5765-4f46-9f3c-af35e63bf338",
   "metadata": {},
   "outputs": [],
   "source": [
    "import uuid"
   ]
  },
  {
   "cell_type": "code",
   "execution_count": 172,
   "id": "001cd1ab-3a5b-4d5a-98a7-24c32fc28aa2",
   "metadata": {},
   "outputs": [
    {
     "name": "stdout",
     "output_type": "stream",
     "text": [
      "Requirement already satisfied: gradio in c:\\users\\karimi\\anaconda3\\lib\\site-packages (5.9.1)\n",
      "Requirement already satisfied: aiofiles<24.0,>=22.0 in c:\\users\\karimi\\anaconda3\\lib\\site-packages (from gradio) (23.2.1)\n",
      "Requirement already satisfied: anyio<5.0,>=3.0 in c:\\users\\karimi\\anaconda3\\lib\\site-packages (from gradio) (4.2.0)\n",
      "Requirement already satisfied: fastapi<1.0,>=0.115.2 in c:\\users\\karimi\\anaconda3\\lib\\site-packages (from gradio) (0.115.6)\n",
      "Requirement already satisfied: ffmpy in c:\\users\\karimi\\anaconda3\\lib\\site-packages (from gradio) (0.5.0)\n",
      "Requirement already satisfied: gradio-client==1.5.2 in c:\\users\\karimi\\anaconda3\\lib\\site-packages (from gradio) (1.5.2)\n",
      "Requirement already satisfied: httpx>=0.24.1 in c:\\users\\karimi\\anaconda3\\lib\\site-packages (from gradio) (0.27.0)\n",
      "Requirement already satisfied: huggingface-hub>=0.25.1 in c:\\users\\karimi\\anaconda3\\lib\\site-packages (from gradio) (0.27.1)\n",
      "Requirement already satisfied: jinja2<4.0 in c:\\users\\karimi\\anaconda3\\lib\\site-packages (from gradio) (3.1.4)\n",
      "Requirement already satisfied: markupsafe~=2.0 in c:\\users\\karimi\\anaconda3\\lib\\site-packages (from gradio) (2.1.3)\n",
      "Requirement already satisfied: numpy<3.0,>=1.0 in c:\\users\\karimi\\anaconda3\\lib\\site-packages (from gradio) (1.26.4)\n",
      "Requirement already satisfied: orjson~=3.0 in c:\\users\\karimi\\anaconda3\\lib\\site-packages (from gradio) (3.10.13)\n",
      "Requirement already satisfied: packaging in c:\\users\\karimi\\anaconda3\\lib\\site-packages (from gradio) (23.2)\n",
      "Requirement already satisfied: pandas<3.0,>=1.0 in c:\\users\\karimi\\anaconda3\\lib\\site-packages (from gradio) (2.2.2)\n",
      "Requirement already satisfied: pillow<12.0,>=8.0 in c:\\users\\karimi\\anaconda3\\lib\\site-packages (from gradio) (10.3.0)\n",
      "Requirement already satisfied: pydantic>=2.0 in c:\\users\\karimi\\anaconda3\\lib\\site-packages (from gradio) (2.5.3)\n",
      "Requirement already satisfied: pydub in c:\\users\\karimi\\anaconda3\\lib\\site-packages (from gradio) (0.25.1)\n",
      "Requirement already satisfied: python-multipart>=0.0.18 in c:\\users\\karimi\\anaconda3\\lib\\site-packages (from gradio) (0.0.20)\n",
      "Requirement already satisfied: pyyaml<7.0,>=5.0 in c:\\users\\karimi\\anaconda3\\lib\\site-packages (from gradio) (6.0.1)\n",
      "Requirement already satisfied: ruff>=0.2.2 in c:\\users\\karimi\\anaconda3\\lib\\site-packages (from gradio) (0.8.6)\n",
      "Requirement already satisfied: safehttpx<0.2.0,>=0.1.6 in c:\\users\\karimi\\anaconda3\\lib\\site-packages (from gradio) (0.1.6)\n",
      "Requirement already satisfied: semantic-version~=2.0 in c:\\users\\karimi\\anaconda3\\lib\\site-packages (from gradio) (2.10.0)\n",
      "Requirement already satisfied: starlette<1.0,>=0.40.0 in c:\\users\\karimi\\anaconda3\\lib\\site-packages (from gradio) (0.41.3)\n",
      "Requirement already satisfied: tomlkit<0.14.0,>=0.12.0 in c:\\users\\karimi\\anaconda3\\lib\\site-packages (from gradio) (0.13.2)\n",
      "Requirement already satisfied: typer<1.0,>=0.12 in c:\\users\\karimi\\anaconda3\\lib\\site-packages (from gradio) (0.15.1)\n",
      "Requirement already satisfied: typing-extensions~=4.0 in c:\\users\\karimi\\anaconda3\\lib\\site-packages (from gradio) (4.11.0)\n",
      "Requirement already satisfied: uvicorn>=0.14.0 in c:\\users\\karimi\\anaconda3\\lib\\site-packages (from gradio) (0.34.0)\n",
      "Requirement already satisfied: fsspec in c:\\users\\karimi\\anaconda3\\lib\\site-packages (from gradio-client==1.5.2->gradio) (2024.3.1)\n",
      "Requirement already satisfied: websockets<15.0,>=10.0 in c:\\users\\karimi\\anaconda3\\lib\\site-packages (from gradio-client==1.5.2->gradio) (14.1)\n",
      "Requirement already satisfied: idna>=2.8 in c:\\users\\karimi\\anaconda3\\lib\\site-packages (from anyio<5.0,>=3.0->gradio) (3.7)\n",
      "Requirement already satisfied: sniffio>=1.1 in c:\\users\\karimi\\anaconda3\\lib\\site-packages (from anyio<5.0,>=3.0->gradio) (1.3.0)\n",
      "Requirement already satisfied: certifi in c:\\users\\karimi\\anaconda3\\lib\\site-packages (from httpx>=0.24.1->gradio) (2024.8.30)\n",
      "Requirement already satisfied: httpcore==1.* in c:\\users\\karimi\\anaconda3\\lib\\site-packages (from httpx>=0.24.1->gradio) (1.0.2)\n",
      "Requirement already satisfied: h11<0.15,>=0.13 in c:\\users\\karimi\\anaconda3\\lib\\site-packages (from httpcore==1.*->httpx>=0.24.1->gradio) (0.14.0)\n",
      "Requirement already satisfied: filelock in c:\\users\\karimi\\anaconda3\\lib\\site-packages (from huggingface-hub>=0.25.1->gradio) (3.13.1)\n",
      "Requirement already satisfied: requests in c:\\users\\karimi\\anaconda3\\lib\\site-packages (from huggingface-hub>=0.25.1->gradio) (2.32.2)\n",
      "Requirement already satisfied: tqdm>=4.42.1 in c:\\users\\karimi\\anaconda3\\lib\\site-packages (from huggingface-hub>=0.25.1->gradio) (4.66.4)\n",
      "Requirement already satisfied: python-dateutil>=2.8.2 in c:\\users\\karimi\\anaconda3\\lib\\site-packages (from pandas<3.0,>=1.0->gradio) (2.9.0.post0)\n",
      "Requirement already satisfied: pytz>=2020.1 in c:\\users\\karimi\\anaconda3\\lib\\site-packages (from pandas<3.0,>=1.0->gradio) (2024.1)\n",
      "Requirement already satisfied: tzdata>=2022.7 in c:\\users\\karimi\\anaconda3\\lib\\site-packages (from pandas<3.0,>=1.0->gradio) (2023.3)\n",
      "Requirement already satisfied: annotated-types>=0.4.0 in c:\\users\\karimi\\anaconda3\\lib\\site-packages (from pydantic>=2.0->gradio) (0.6.0)\n",
      "Requirement already satisfied: pydantic-core==2.14.6 in c:\\users\\karimi\\anaconda3\\lib\\site-packages (from pydantic>=2.0->gradio) (2.14.6)\n",
      "Requirement already satisfied: click>=8.0.0 in c:\\users\\karimi\\anaconda3\\lib\\site-packages (from typer<1.0,>=0.12->gradio) (8.1.7)\n",
      "Requirement already satisfied: shellingham>=1.3.0 in c:\\users\\karimi\\anaconda3\\lib\\site-packages (from typer<1.0,>=0.12->gradio) (1.5.4)\n",
      "Requirement already satisfied: rich>=10.11.0 in c:\\users\\karimi\\anaconda3\\lib\\site-packages (from typer<1.0,>=0.12->gradio) (13.3.5)\n",
      "Requirement already satisfied: colorama in c:\\users\\karimi\\anaconda3\\lib\\site-packages (from click>=8.0.0->typer<1.0,>=0.12->gradio) (0.4.6)\n",
      "Requirement already satisfied: six>=1.5 in c:\\users\\karimi\\anaconda3\\lib\\site-packages (from python-dateutil>=2.8.2->pandas<3.0,>=1.0->gradio) (1.16.0)\n",
      "Requirement already satisfied: markdown-it-py<3.0.0,>=2.2.0 in c:\\users\\karimi\\anaconda3\\lib\\site-packages (from rich>=10.11.0->typer<1.0,>=0.12->gradio) (2.2.0)\n",
      "Requirement already satisfied: pygments<3.0.0,>=2.13.0 in c:\\users\\karimi\\anaconda3\\lib\\site-packages (from rich>=10.11.0->typer<1.0,>=0.12->gradio) (2.15.1)\n",
      "Requirement already satisfied: charset-normalizer<4,>=2 in c:\\users\\karimi\\anaconda3\\lib\\site-packages (from requests->huggingface-hub>=0.25.1->gradio) (2.0.4)\n",
      "Requirement already satisfied: urllib3<3,>=1.21.1 in c:\\users\\karimi\\anaconda3\\lib\\site-packages (from requests->huggingface-hub>=0.25.1->gradio) (2.2.2)\n",
      "Requirement already satisfied: mdurl~=0.1 in c:\\users\\karimi\\anaconda3\\lib\\site-packages (from markdown-it-py<3.0.0,>=2.2.0->rich>=10.11.0->typer<1.0,>=0.12->gradio) (0.1.0)\n",
      "Note: you may need to restart the kernel to use updated packages.\n"
     ]
    }
   ],
   "source": [
    "pip install gradio"
   ]
  },
  {
   "cell_type": "code",
   "execution_count": 166,
   "id": "9bf800d7-7989-48cc-8eb7-f0b808f5137d",
   "metadata": {},
   "outputs": [],
   "source": [
    "import gradio as gr"
   ]
  },
  {
   "cell_type": "code",
   "execution_count": 168,
   "id": "fcbaeca1-3d54-46a4-8357-58dd57c5f8df",
   "metadata": {},
   "outputs": [],
   "source": [
    "import re"
   ]
  },
  {
   "cell_type": "code",
   "execution_count": 170,
   "id": "ec37ae01-75c5-4bac-89ba-36956ece759c",
   "metadata": {},
   "outputs": [],
   "source": [
    "# defigning function for store data in database\n",
    "def save_information(gender, dob, status, verified, language):\n",
    "# generating unique customer id automatically\n",
    "    customer_id = str(uuid.uuid4())[:8]\n",
    "    \n",
    "    try:\n",
    "        if not re.match(r\"^\\d{4}$\",str(dob)):\n",
    "            return \"Error: invalid date of birth\"\n",
    " # connection to database\n",
    "        connection = sqlite3.connect(\"DeliveryDataBase_new.db\")\n",
    "        cursor = connection.cursor()\n",
    "        \n",
    "# Import new data to the \"customers\" table\n",
    "        cursor.execute(\"\"\"\n",
    "        INSERT INTO customers (akeed_customer_id, gender, dob, status, verified, language, created_at, updated_at)\n",
    "        VALUES (?, ?, ?, ?, ?, ?, datetime('now'), datetime('now'))\n",
    "        \"\"\", (customer_id, gender, dob, status, verified, language))\n",
    "        \n",
    "        connection.commit()\n",
    "        connection.close()\n",
    "        return f\"Customer added successfully! ID: {customer_id}\"\n",
    "    except Exception as e:\n",
    "        return f\"Error: {e}\"\n"
   ]
  },
  {
   "cell_type": "code",
   "execution_count": 7,
   "id": "adab0f4d-a076-4211-b1d4-c81b8e7116c4",
   "metadata": {},
   "outputs": [
    {
     "name": "stderr",
     "output_type": "stream",
     "text": [
      "C:\\Users\\karimi\\anaconda3\\Lib\\site-packages\\gradio\\components\\dropdown.py:226: UserWarning: The value passed into gr.Dropdown() is not in the list of choices. Please update the list of choices to include: select or set allow_custom_value=True.\n",
      "  warnings.warn(\n"
     ]
    },
    {
     "name": "stdout",
     "output_type": "stream",
     "text": [
      "* Running on local URL:  http://127.0.0.1:7860\n",
      "\n",
      "To create a public link, set `share=True` in `launch()`.\n"
     ]
    },
    {
     "data": {
      "text/html": [
       "<div><iframe src=\"http://127.0.0.1:7860/\" width=\"100%\" height=\"500\" allow=\"autoplay; camera; microphone; clipboard-read; clipboard-write;\" frameborder=\"0\" allowfullscreen></iframe></div>"
      ],
      "text/plain": [
       "<IPython.core.display.HTML object>"
      ]
     },
     "metadata": {},
     "output_type": "display_data"
    },
    {
     "data": {
      "text/plain": []
     },
     "execution_count": 7,
     "metadata": {},
     "output_type": "execute_result"
    }
   ],
   "source": [
    "# designing GUI with Gradio\n",
    "def customer_form():\n",
    "    with gr.Blocks() as demo:\n",
    "        gr.Markdown(\"##  New Customer Information\")\n",
    "        \n",
    "# input items\n",
    "        gender = gr.Dropdown(label=\"Gender\", choices=[\"Male\", \"Female\"], type=\"value\", value=\"select\")\n",
    "        dob = gr.Textbox(label=\"Date of Birth (YYYY)\", placeholder=\"1990\")\n",
    "        status = gr.Number(label=\"Status\", value=1, precision=0)\n",
    "        verified = gr.Radio([\"0\", \"1\"], label=\"Verified\", value=\"1\")\n",
    "        language = gr.Textbox(label=\"Language\", placeholder=\"EN/FA\")\n",
    "        \n",
    "        submit = gr.Button(\"Submit\")\n",
    "#output message\n",
    "        output = gr.Textbox(label=\"Output\")\n",
    "        \n",
    " # connection between the submit button and save_information function\n",
    "        submit.click(save_information, inputs=[gender, dob, status, verified, language], outputs=output)\n",
    "    \n",
    "    return demo\n",
    "\n",
    "demo = customer_form()\n",
    "demo.launch()"
   ]
  },
  {
   "cell_type": "code",
   "execution_count": 176,
   "id": "8c75f1f1-3e0d-48b4-952d-6ab0b3f7dc43",
   "metadata": {},
   "outputs": [
    {
     "name": "stdout",
     "output_type": "stream",
     "text": [
      "('b1f09ac6', 'Male', '1970', 1, 0, 'EN', '2025-01-15 12:32:29', '2025-01-15 12:32:29')\n"
     ]
    }
   ],
   "source": [
    "connection = sqlite3.connect(\"DeliveryDataBase_new.db\")\n",
    "cursor = connection.cursor()\n",
    "\n",
    "cursor.execute(\"\"\"\n",
    "SELECT *\n",
    "FROM customers WHERE akeed_customer_id== 'b1f09ac6' ;\n",
    "\"\"\")\n",
    "rows = cursor.fetchall()\n",
    "for r in rows:\n",
    "     print(r)\n",
    "\n",
    "connection.close()"
   ]
  },
  {
   "cell_type": "markdown",
   "id": "653481cd-e50e-4cd4-9826-1387787de9eb",
   "metadata": {},
   "source": [
    "<div class=\"alert alert-block alert-info\" dir=\"ltr\" style=\"text-align: center;\"><strong><span style=\"font-family: courier new, courier; font-size: 18pt;\">Dashboard </span></strong>\n",
    "<p dir=\"rtl\" style=\"text-align: center;\"><strong><span style=\"font-family: courier new, courier;\"><span style=\"font-size: 18pt;\">Analytical report</span><br /></span></strong></p>\n",
    "</div>"
   ]
  },
  {
   "cell_type": "code",
   "execution_count": 179,
   "id": "3bbe9280-9cec-4f1f-b05e-846d8c31bc43",
   "metadata": {},
   "outputs": [],
   "source": [
    "# the data that we should use for analytical report is related to table order \n",
    "def get_data():\n",
    "    connection = sqlite3.connect(\"DeliveryDataBase_new.db\")\n",
    "    query = \"SELECT * FROM orders\"\n",
    "    updated_orders_df = pd.read_sql_query(query, connection)\n",
    "    connection.close()\n",
    "    return updated_orders_df\n"
   ]
  },
  {
   "cell_type": "code",
   "execution_count": 181,
   "id": "bb2a75a1-7656-48f7-92c7-f658e9af9585",
   "metadata": {},
   "outputs": [],
   "source": [
    "def statistics():\n",
    "    updated_orders_df = get_data()\n",
    "    mean_order_cost = updated_orders_df['grand_total'].mean()\n",
    "    max_order_cost = updated_orders_df['grand_total'].max()\n",
    "    min_order_cost = updated_orders_df['grand_total'].min()\n",
    "    return f\"Mean: {mean_order_cost:.2f}, Max: {max_order_cost:.2f}, Min: {min_order_cost:.2f}\"\n"
   ]
  },
  {
   "cell_type": "code",
   "execution_count": 183,
   "id": "14d20bc1-625b-49e9-a473-10bf3958f00e",
   "metadata": {},
   "outputs": [],
   "source": [
    "import matplotlib.pyplot as plt"
   ]
  },
  {
   "cell_type": "code",
   "execution_count": 185,
   "id": "bebfbc9d-ac74-43c6-9899-ca8580020814",
   "metadata": {},
   "outputs": [],
   "source": [
    "def plot_hist():\n",
    "    updated_orders_df = get_data()\n",
    "    plt.hist(updated_orders_df['item_count'], bins=20, log=True, color='skyblue', edgecolor='black')\n",
    "    plt.xlabel(\"Item Count\")\n",
    "    plt.ylabel(\" log scale\")\n",
    "    plt.title(\"histogram of the 'item_count'\")\n",
    "    plt.savefig(\"hist.png\")\n",
    "    return \"hist.png\""
   ]
  },
  {
   "cell_type": "code",
   "execution_count": 187,
   "id": "f38afafc-3745-4bcb-b36d-1ad1e559b810",
   "metadata": {},
   "outputs": [],
   "source": [
    "def large_orders():\n",
    "    connection = sqlite3.connect(\"DeliveryDataBase_new.db\")\n",
    "    cursor = connection.cursor()\n",
    "    cursor.execute(\"SELECT DISTINCT customer_id FROM orders WHERE item_count>40\" ) \n",
    "    result = cursor.fetchall() \n",
    "    connection.close()\n",
    "    return result"
   ]
  },
  {
   "cell_type": "code",
   "execution_count": 189,
   "id": "098e932f-590a-4e0b-9b67-0fe8c3825ced",
   "metadata": {},
   "outputs": [
    {
     "name": "stderr",
     "output_type": "stream",
     "text": [
      "C:\\Users\\karimi\\anaconda3\\Lib\\site-packages\\gradio\\components\\base.py:201: UserWarning: 'scale' value should be an integer. Using 0.5 will cause issues.\n",
      "  warnings.warn(\n"
     ]
    },
    {
     "name": "stdout",
     "output_type": "stream",
     "text": [
      "* Running on local URL:  http://127.0.0.1:7861\n",
      "\n",
      "To create a public link, set `share=True` in `launch()`.\n"
     ]
    },
    {
     "data": {
      "text/html": [
       "<div><iframe src=\"http://127.0.0.1:7861/\" width=\"100%\" height=\"500\" allow=\"autoplay; camera; microphone; clipboard-read; clipboard-write;\" frameborder=\"0\" allowfullscreen></iframe></div>"
      ],
      "text/plain": [
       "<IPython.core.display.HTML object>"
      ]
     },
     "metadata": {},
     "output_type": "display_data"
    },
    {
     "data": {
      "text/plain": []
     },
     "execution_count": 189,
     "metadata": {},
     "output_type": "execute_result"
    }
   ],
   "source": [
    "def dashboard():\n",
    "    with gr.Blocks() as demo:\n",
    "        gr.Markdown(\"## Dashboard for Order Analysis\")\n",
    "   \n",
    "        # button for statistics\n",
    "        with gr.Row():\n",
    "            gr.Markdown(\"#### 1. Statistics on Grand Total\")\n",
    "            stats_button = gr.Button(\"Calculate Statistics\", scale=0.5)\n",
    "            stats_output = gr.Textbox(label=\"Statistics\", scale=3)\n",
    "            stats_button.click(statistics, inputs=[], outputs=stats_output)\n",
    "\n",
    "        # button for creating histogram\n",
    "        with gr.Row():\n",
    "            gr.Markdown(\"#### 2. Histogram of Item Count\")\n",
    "            histogram_button = gr.Button(\"Show Histogram\",scale=0.5)\n",
    "            histogram_output = gr.Image(label=\"Histogram\",scale=3)\n",
    "            histogram_button.click(plot_hist, inputs=[], outputs=histogram_output)\n",
    "\n",
    "        # button for showing the customers who has more than 40 orders\n",
    "        with gr.Row():\n",
    "            gr.Markdown(\"#### 3. Customers with Large Orders\")\n",
    "            customers_button = gr.Button(\"Find Customers\",scale=0.5)\n",
    "            customers_output = gr.Textbox(label=\"Customer IDs\",scale=3)\n",
    "            customers_button.click(large_orders, inputs=[], outputs=customers_output)\n",
    "\n",
    "    return demo\n",
    "\n",
    "demo = dashboard()\n",
    "demo.launch()"
   ]
  },
  {
   "cell_type": "code",
   "execution_count": null,
   "id": "009f4626-8a35-4599-a24f-c53029541e4e",
   "metadata": {},
   "outputs": [],
   "source": []
  },
  {
   "cell_type": "code",
   "execution_count": null,
   "id": "f36ca97e-0e1a-45a5-9dd9-cefbae17426b",
   "metadata": {},
   "outputs": [],
   "source": []
  },
  {
   "cell_type": "code",
   "execution_count": null,
   "id": "f8c6ea08-20e4-4660-98f6-f2cdb583c424",
   "metadata": {},
   "outputs": [],
   "source": []
  }
 ],
 "metadata": {
  "kernelspec": {
   "display_name": "Python 3 (ipykernel)",
   "language": "python",
   "name": "python3"
  },
  "language_info": {
   "codemirror_mode": {
    "name": "ipython",
    "version": 3
   },
   "file_extension": ".py",
   "mimetype": "text/x-python",
   "name": "python",
   "nbconvert_exporter": "python",
   "pygments_lexer": "ipython3",
   "version": "3.11.7"
  }
 },
 "nbformat": 4,
 "nbformat_minor": 5
}
